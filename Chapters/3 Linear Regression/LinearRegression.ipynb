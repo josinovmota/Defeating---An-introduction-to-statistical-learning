{
 "cells": [
  {
   "attachments": {},
   "cell_type": "markdown",
   "metadata": {},
   "source": [
    "# Linear Regression"
   ]
  },
  {
   "attachments": {},
   "cell_type": "markdown",
   "metadata": {},
   "source": [
    "### Resumo sobre regressão linear usando como base o livro **Introduction To Statistical Learning**"
   ]
  },
  {
   "attachments": {},
   "cell_type": "markdown",
   "metadata": {},
   "source": [
    "O cálculo de uma regressão linear pode ser escrito como:"
   ]
  },
  {
   "attachments": {},
   "cell_type": "markdown",
   "metadata": {},
   "source": [
    "$Y \\approx B_0 + B_1X$"
   ]
  },
  {
   "attachments": {},
   "cell_type": "markdown",
   "metadata": {},
   "source": [
    "Aonde:\n",
    "\n",
    "$Y$ = ***F(x)*** da função ou **Valor Target** | Valor que buscamos prever ao usar a regressão\n",
    "\n",
    "$B_0$ = **Coeficiente Linear** | Também chamado de **Interceptor**\n",
    "\n",
    "$B_1$ = **Coeficiente Angular** | Também chamado de **Slope**\n",
    "\n",
    "$X$ = **Predictor** | Dados que serão usados na regressão com o intuito de **Prever** ou **Inferir**"
   ]
  },
  {
   "attachments": {},
   "cell_type": "markdown",
   "metadata": {},
   "source": [
    "Essas variáveis podem ser escritas de formas diferentes e com novas abordagens, como:\n",
    "\n",
    "$\\hat{Y}$ = **Y Hat** | Aproximação criada pela regressão que busca chegar no valor de $Y$\n",
    "\n",
    "$\\hat{B_0}$ = **Coeficiente Linear Hat**, mais naturalmente chamado de **B0 Hat** | É o Coeficiente Linear que encontramos ao usar algum método de aproximação para reduzir os erros do modelo(No caso do livro, é usado o Least Squares)\n",
    "\n",
    "$\\hat{B_1}$ = **Coeficiente Angular Hat**, mais naturalmente chamado de **B1 Hat** | É o Coeficiente Angular que encontramos ao usar algum método de aproximação para reduzir os erros do modelo(No caso do livro, é usado o Least Squares)"
   ]
  },
  {
   "attachments": {},
   "cell_type": "markdown",
   "metadata": {},
   "source": [
    "💥 Esse resumo está sendo feito para uso próprio; portanto, nele, esqueço todas as formalidades e o deixo mais agradável para eu entender."
   ]
  },
  {
   "cell_type": "code",
   "execution_count": null,
   "metadata": {
    "vscode": {
     "languageId": "plaintext"
    }
   },
   "outputs": [],
   "source": []
  }
 ],
 "metadata": {
  "language_info": {
   "name": "python"
  },
  "orig_nbformat": 4
 },
 "nbformat": 4,
 "nbformat_minor": 2
}
