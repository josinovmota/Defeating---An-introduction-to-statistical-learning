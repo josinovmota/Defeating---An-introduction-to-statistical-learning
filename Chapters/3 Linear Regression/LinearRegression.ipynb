{
 "cells": [
  {
   "attachments": {},
   "cell_type": "markdown",
   "metadata": {},
   "source": [
    "# Linear Regression"
   ]
  },
  {
   "attachments": {},
   "cell_type": "markdown",
   "metadata": {},
   "source": [
    "## O cálculo de uma regressão linear pode ser escrito como:"
   ]
  },
  {
   "attachments": {},
   "cell_type": "markdown",
   "metadata": {},
   "source": [
    "$Y \\approx B_0 + B_1X$"
   ]
  },
  {
   "attachments": {},
   "cell_type": "markdown",
   "metadata": {},
   "source": [
    "### Aonde:\n",
    "\n",
    "$Y$ = **F(x)** da função ou **Valor Target** | Valor que buscamos prever ao usar a regressão\n",
    "\n",
    "$B_0$ = **Coeficiente Linear** | Também chamado de **Interceptor**\n",
    "\n",
    "$B_1$ = **Coeficiente Angular** | Também chamado de **Slope**\n",
    "\n",
    "$X$ = **Predictor** | Dados que serão usados na regressão com o intuito de **Prever** ou **Inferir**"
   ]
  },
  {
   "attachments": {},
   "cell_type": "markdown",
   "metadata": {},
   "source": [
    "### Essas variáveis podem ser escritas de formas diferentes e com novas abordagens, como:\n",
    "\n",
    "^ = símbolo de **hat**\n",
    "\n",
    "$\\hat{Y}$ = **Y Hat** | Aproximação criada pela regressão que busca chegar no valor de $Y$\n",
    "\n",
    "$\\hat{B_0}$ = **Coeficiente Linear Hat**, mais naturalmente chamado de **B0 Hat** | É o Coeficiente Linear que encontramos ao usar algum método de aproximação para reduzir os erros do modelo(No caso do livro, é usado o Least Squares)\n",
    "\n",
    "$\\hat{B_1}$ = **Coeficiente Angular Hat**, mais naturalmente chamado de **B1 Hat** | É o Coeficiente Angular que encontramos ao usar algum método de aproximação para reduzir os erros do modelo(No caso do livro, é usado o Least Squares)\n",
    "\n",
    "_ = Chamo esse símbolo de **linha** quando ele fica acima da variável\n",
    "\n",
    "$\\bar{Y}$ =  **Média do valor target** "
   ]
  },
  {
   "attachments": {},
   "cell_type": "markdown",
   "metadata": {},
   "source": [
    "## Dentro da Regressão vamos encontrar vários termos que serão muito úteis, como:"
   ]
  },
  {
   "attachments": {},
   "cell_type": "markdown",
   "metadata": {},
   "source": [
    "$p$ = Quantidade de **Predictors** disponíveis ou sendo usados, depende do contexto\n",
    "\n",
    "$n$ = Quantidade de **Dados** que temos disponíveis | Lembrando sempre que, para cada número de predictor(p) disponível, teremos 1 dado. Exemplo: Temos n=1 e p=5, então temos, para cada P um \n",
    "dado, totalizando no fim, 5 observações de cada predictor\n",
    "\n",
    "$e$ = **Erro Residual**, valor dado por $($ $Y$ - $\\hat{Y}$ $)$\n",
    "\n",
    "$bias$ = **Inabilidade** do modelo se encaixar na True Relationship\n",
    "\n",
    "$Variance$ = Valor proporcional ao quão **disperso** é o seu modelo (Alto = Squiggly line | Baixo = Reta)\n",
    "\n",
    "$RSS$ = **Residual Sum of Squares** (Todos os erros residuais ao quadrado)\n",
    "\n",
    "$TSS$ = **Total Sum Of Squares** (Variancia total da resposta de Y)\n",
    "\n",
    "$SE$ = **Stardard Error**. Usado, geralmente, para calcular o quão próximo está a Prediction do True Value\n",
    "\n",
    "$µ$ = **Média** de algo, por exemplo de uma população, sendo a média de toda a população\n",
    "\n",
    "$\\hat{µ}$ = **Média de uma sample** de algo, ou seja, a média de apenas uma parte de algo, como, por exemplo, a média de apenas uma amostra da população total\n",
    "\n",
    "$SE(\\hat{µ})$ = **Stardad Error de µ**. Usado pra calcular o quão próximo está o $\\hat{µ}$ do $µ$\n",
    "\n",
    "$H_0$ = **Null Hypothesis**. Hipótese de que existe uma relação entre o Y e o Predictor ($H_0$ = $B_1$ = 0)\n",
    "\n",
    "$H_a$ = **Negação da Null Hypothesis**. Hipótese de que existe uma relação entre o Y e o predictor ($H_a$ = $B_1$ $\\neq$ 0)\n",
    "\n",
    "$RSE$ = **Residual Squared Error**. Em resumo, valor inversamente proporcional ao quanto o modelo acerta em relação à True Relationship\n",
    "\n",
    "$R²$ = **Medida de Fit de um modelo em relação ao Y**. O valor tem um range de 0 a 1, facilitando assim o entendimento. Sendo valores próximos de 0 aqueles que **não se encaixam** bem ao Y e valores próximos de 1, aqueles que se **encaixam** bem ao Y\n",
    "\n",
    "T-statistics = **Medida que nos informa se o predictor é eficiente**\n",
    "\n",
    "P-value = **Valor diretamente proporcial à H_0(Null Hypothesis)**. Quanto maior, maior a evidência de um predictor ser null hypothesis"
   ]
  },
  {
   "attachments": {},
   "cell_type": "markdown",
   "metadata": {},
   "source": [
    "## Perguntas que devem ser feitas antes de considerarmos uma Simple ou Multiple Linear Regression\n",
    "\n"
   ]
  },
  {
   "attachments": {},
   "cell_type": "markdown",
   "metadata": {},
   "source": [
    "### 1. Existe relacionamento entre a resposta e os predictors?\n",
    "\n",
    "Para descobrir, fazemos o teste de hipóteses, por meio do F-Statistics que é calculado por meio de:\n",
    "\n",
    "F-statistic = $\\frac{(TSS - RSS)/p}{RSS/(n-p-1)}$\n",
    "\n",
    "Quando o resultado do F-statistic for um número **Próximo** ou **Igual** a 1, nossa hipótese de que tal predictor **não tem relação** com Y é maior\n",
    "\n",
    "Quando o resultado do F-statistic for um número **Maior** e **Distante** de 1, nossa hiótese de que tal predictor **tem relação** com Y é maior\n",
    "\n",
    "Caso exista uma relação, partimos para o P-Value, que é calculado por meio de:\n",
    "\n",
    "P-Value = $P(F_{obs} \\ge F | H_0)$\n",
    "\n",
    "\n",
    "💣PERIGO💣: Quando o **P(Predictors)** for menor que o **N(Dados)** não podemos usar o método **Least Squares**, portanto, não podemos usar o F-Statiscs\n",
    "em sua forma **Eficiente** \n",
    "\n",
    "### 2. Quais variáveis são importantes?\n",
    "\n",
    "Para saber quais variáveis são importantes, usamos métodos de VARIABLE SELECTION. Antes de entrar nisso, é importante entendermos que, para cada p maior ou igual\n",
    "a 2, teremos os subconjuntos $2^p$. Para exemplificar, imagine um cenário em que temos 2 predictors para fazer um modelo, sendo eles X1 e X2. Teremos 4 subconjuntos\n",
    "de modelos, sendo eles X1X2, X1, X2 e o modelo Null. Agora retornaremos ao VARIABLE SELECTION, que é dividido em métodos, sendo eles:\n",
    "\n",
    "Forward Selection: É um dos métodos de selecionar as variáveis importantes. Imagine um cenário em que queremos prever qual será o resultado de um aluno em um teste.\n",
    "Para prever, temos os seguintes predictors: Idade, Quanto tempo ele estudou, Quanto ele dormiu na noite anterior ao teste, Quantos irmãos ele tem. Agora pegamos um\n",
    "Null Model(No sentido de não ter predictors) e vamos adicionando 1 por 1 cada predictor e ir testando a eficiência de predictor. Existem vários modos de testar, tais\n",
    "como R² e outros modos que eu vi no livro, dos quais vou estudar mais pra frente, provavelmente. E aí vamos adicionando e testando até ver que o predictor adicionado\n",
    "não agrega mais tanto e ir descartando-os. É importante que na hora de selecionarmos usarmos o bom senso e o olhar crítico para entender que, por exemplo, Quanto tempo\n",
    "ele estudou provavelmente agrega muito mais do que a quantidade de irmãos que ele tem.\n",
    "\n",
    "Backward Selection: É um método em que pegamos um modelo que não seja Null model(No sentido de não ter predictors) e vamos removendo os predictors com P-Values altos\n",
    "até que todos os restantes tenham um P-Value abaixo de um limite. Limite nesse exemplo eu falo como sendo, por exemplo temos um cenário em que o modelo tem 3 predictors:\n",
    "Quantos gols marcou, Quanto treina, Qual o nome do jogador. Os p-values são respectivamente <0,00001; <0,00001; 3. Ao observar, vemos que o p-value do predictor \"Nome do\n",
    "jogador\" é MUITO algo quando comparado ao p-value dos outros predictors, então vamos retirá-lo, mas é aí que entra a questão do Limite. Ao observar os outros 2 predictors,\n",
    "podemos notar que ambos são valores baixíssimos e que estão em um \"Limite\" de serem menores que 0,00001, daí entra a idéia de limite\n",
    "\n",
    "💣PERIGO💣: Não pode ser usada quando P(predictors) > N(Dados)\n",
    "\n",
    "Mixed Selection:"
   ]
  },
  {
   "attachments": {},
   "cell_type": "markdown",
   "metadata": {},
   "source": [
    "💥 Esse resumo está sendo feito para uso próprio; portanto, nele, esqueço todas as formalidades e o deixo mais agradável para eu entender."
   ]
  }
 ],
 "metadata": {
  "language_info": {
   "name": "python"
  },
  "orig_nbformat": 4
 },
 "nbformat": 4,
 "nbformat_minor": 2
}
