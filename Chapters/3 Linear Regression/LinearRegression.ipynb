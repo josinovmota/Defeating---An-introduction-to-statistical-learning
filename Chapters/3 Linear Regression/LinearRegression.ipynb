{
 "cells": [
  {
   "attachments": {},
   "cell_type": "markdown",
   "metadata": {},
   "source": [
    "# Linear Regression"
   ]
  },
  {
   "attachments": {},
   "cell_type": "markdown",
   "metadata": {},
   "source": [
    "## O cálculo de uma regressão linear pode ser escrito como:"
   ]
  },
  {
   "attachments": {},
   "cell_type": "markdown",
   "metadata": {},
   "source": [
    "$Y \\approx B_0 + B_1X$"
   ]
  },
  {
   "attachments": {},
   "cell_type": "markdown",
   "metadata": {},
   "source": [
    "### Aonde:\n",
    "\n",
    "$Y$ = **F(x)** da função ou **Valor Target** | Valor que buscamos prever ao usar a regressão\n",
    "\n",
    "$B_0$ = **Coeficiente Linear** | Também chamado de **Interceptor**\n",
    "\n",
    "$B_1$ = **Coeficiente Angular** | Também chamado de **Slope**\n",
    "\n",
    "$X$ = **Predictor** | Dados que serão usados na regressão com o intuito de **Prever** ou **Inferir**"
   ]
  },
  {
   "attachments": {},
   "cell_type": "markdown",
   "metadata": {},
   "source": [
    "### Essas variáveis podem ser escritas de formas diferentes e com novas abordagens, como:\n",
    "\n",
    "^ = símbolo de **hat**\n",
    "\n",
    "$\\hat{Y}$ = **Y Hat** | Aproximação criada pela regressão que busca chegar no valor de $Y$\n",
    "\n",
    "$\\hat{B_0}$ = **Coeficiente Linear Hat**, mais naturalmente chamado de **B0 Hat** | É o Coeficiente Linear que encontramos ao usar algum método de aproximação para reduzir os erros do modelo(No caso do livro, é usado o Least Squares)\n",
    "\n",
    "$\\hat{B_1}$ = **Coeficiente Angular Hat**, mais naturalmente chamado de **B1 Hat** | É o Coeficiente Angular que encontramos ao usar algum método de aproximação para reduzir os erros do modelo(No caso do livro, é usado o Least Squares)\n",
    "\n",
    "_ = Chamo esse símbolo de **linha** quando ele fica acima da variável\n",
    "\n",
    "$\\bar{Y}$ =  **Média do valor target** "
   ]
  },
  {
   "attachments": {},
   "cell_type": "markdown",
   "metadata": {},
   "source": [
    "## Dentro da Regressão vamos encontrar vários termos que serão muito úteis, como:"
   ]
  },
  {
   "attachments": {},
   "cell_type": "markdown",
   "metadata": {},
   "source": [
    "$p$ = Quantidade de **Predictors** disponíveis ou sendo usados, depende do contexto\n",
    "\n",
    "$n$ = Quantidade de **Dados** que temos disponíveis | Lembrando sempre que, para cada número de predictor(p) disponível, teremos 1 dado. Exemplo: Temos n=1 e p=5, então temos, para cada P um dado, totalizando no fim, 5 observações de cada predictor\n",
    "\n",
    "$e$ = **Erro Residual**, valor dado por $($ $Y$ - $\\hat{Y}$ $)$\n",
    "\n",
    "$bias$ = **Inabilidade** do modelo se encaixar na True Relationship\n",
    "\n",
    "$Variance$ = Valor proporcional ao quão **disperso** é o seu modelo (Alto = Squiggly line | Baixo = Reta)\n",
    "\n",
    "$RSS$ = ***Residual Sum of Squares*** (Todos os erros residuais ao quadrado)\n",
    "\n",
    "$SE$ = **Stardard Error**. Usado, geralmente, para calcular o quão próximo está a Prediction do True Value\n",
    "\n",
    "$µ$ = **Média** de algo, por exemplo de uma população, sendo a média de toda a população\n",
    "\n",
    "$\\hat{µ}$ = **Média de uma sample** de algo, ou seja, a média de apenas uma parte de algo, como, por exemplo, a média de apenas uma amostra da população total\n",
    "\n",
    "$SE(\\hat{µ})$ = **Stardad Error de µ**. Usado pra calcular o quão próximo está o $\\hat{µ}$ do $µ$\n",
    "\n",
    "$H_0$ = **Null Hypothesis**. Hipótese de que existe uma relação entre o Y e o Predictor ($H_0$ = $B_1$ = 0)\n",
    "\n",
    "$H_a$ = **Negação da Null Hypothesis**. Hipótese de que existe uma relação entre o Y e o predictor ($H_a$ = $B_1$ $\\neq$ 0)\n",
    "\n",
    "$RSE$ = **Residual Squared Error**. Em resumo, valor inversamente proporcional ao quanto o modelo acerta em relação à True Relationship\n",
    "\n",
    "$R²$ = **Medida de Fit de um modelo em relação ao Y**. O valor tem um range de 0 a 1, facilitando assim o entendimento. Sendo valores próximos de 0 aqueles que **não se encaixam** bem ao Y e valores próximos de 1, aqueles que se **encaixam** bem ao Y\n",
    "\n",
    "P-value = **Valor diretamente proporcial à H_0(Null Hypothesis)**. Quanto maior, maior a evidência de um predictor ser null hypothesis"
   ]
  },
  {
   "cell_type": "markdown",
   "metadata": {},
   "source": []
  },
  {
   "attachments": {},
   "cell_type": "markdown",
   "metadata": {},
   "source": [
    "💥 Esse resumo está sendo feito para uso próprio; portanto, nele, esqueço todas as formalidades e o deixo mais agradável para eu entender."
   ]
  }
 ],
 "metadata": {
  "language_info": {
   "name": "python"
  },
  "orig_nbformat": 4
 },
 "nbformat": 4,
 "nbformat_minor": 2
}
