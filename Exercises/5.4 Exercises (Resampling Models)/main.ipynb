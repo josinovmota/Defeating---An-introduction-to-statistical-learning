{
 "cells": [
  {
   "cell_type": "code",
   "execution_count": 1,
   "metadata": {},
   "outputs": [],
   "source": [
    "# Libs\n",
    "\n",
    "from ISLP import load_data\n",
    "import pandas as pd \n",
    "import numpy as np \n",
    "import seaborn as sns\n",
    "import matplotlib.pyplot as plt\n",
    "import statsmodels.api as sm\n",
    "from sklearn.model_selection import train_test_split"
   ]
  },
  {
   "cell_type": "markdown",
   "metadata": {},
   "source": [
    "# Questão 5"
   ]
  },
  {
   "cell_type": "markdown",
   "metadata": {},
   "source": [
    "# a)"
   ]
  },
  {
   "cell_type": "code",
   "execution_count": 11,
   "metadata": {},
   "outputs": [
    {
     "name": "stdout",
     "output_type": "stream",
     "text": [
      "     default student      balance        income\n",
      "0         No      No   729.526495  44361.625074\n",
      "1         No     Yes   817.180407  12106.134700\n",
      "2         No      No  1073.549164  31767.138947\n",
      "3         No      No   529.250605  35704.493935\n",
      "4         No      No   785.655883  38463.495879\n",
      "...      ...     ...          ...           ...\n",
      "9995      No      No   711.555020  52992.378914\n",
      "9996      No      No   757.962918  19660.721768\n",
      "9997      No      No   845.411989  58636.156984\n",
      "9998      No      No  1569.009053  36669.112365\n",
      "9999      No     Yes   200.922183  16862.952321\n",
      "\n",
      "[10000 rows x 4 columns]\n"
     ]
    }
   ],
   "source": [
    "np.random.seed(1)\n",
    "df = load_data('Default')"
   ]
  },
  {
   "cell_type": "code",
   "execution_count": 12,
   "metadata": {},
   "outputs": [
    {
     "name": "stdout",
     "output_type": "stream",
     "text": [
      "     default student      balance        income\n",
      "0         No      No   729.526495  44361.625074\n",
      "1         No     Yes   817.180407  12106.134700\n",
      "2         No      No  1073.549164  31767.138947\n",
      "3         No      No   529.250605  35704.493935\n",
      "4         No      No   785.655883  38463.495879\n",
      "...      ...     ...          ...           ...\n",
      "9995      No      No   711.555020  52992.378914\n",
      "9996      No      No   757.962918  19660.721768\n",
      "9997      No      No   845.411989  58636.156984\n",
      "9998      No      No  1569.009053  36669.112365\n",
      "9999      No     Yes   200.922183  16862.952321\n",
      "\n",
      "[10000 rows x 4 columns]\n"
     ]
    }
   ],
   "source": [
    "df_5 = df[['default', 'income', 'balance']].copy()\n",
    "df_5['default'] = pd.get_dummies(df_5['default'], prefix='default', drop_first=True)\n",
    "\n",
    "\n",
    "x_train = df_5[['income', 'balance']].copy()\n",
    "y_train = df_5['default'].copy()\n",
    "\n",
    "model = sm.Logit(y_train, x_train).fit()"
   ]
  },
  {
   "cell_type": "markdown",
   "metadata": {},
   "source": [
    "# b)"
   ]
  },
  {
   "cell_type": "code",
   "execution_count": 4,
   "metadata": {},
   "outputs": [],
   "source": [
    "x_train, x_test, y_train, y_test = train_test_split(df_5[['income', 'balance']], df_5['default'], test_size=0.33, random_state=42)"
   ]
  },
  {
   "cell_type": "code",
   "execution_count": 5,
   "metadata": {},
   "outputs": [
    {
     "name": "stdout",
     "output_type": "stream",
     "text": [
      "Optimization terminated successfully.\n",
      "         Current function value: 0.170523\n",
      "         Iterations 8\n"
     ]
    },
    {
     "data": {
      "text/plain": [
       "False    3299\n",
       "True        1\n",
       "Name: count, dtype: int64"
      ]
     },
     "execution_count": 5,
     "metadata": {},
     "output_type": "execute_result"
    }
   ],
   "source": [
    "model = sm.Logit(y_train, x_train).fit()\n",
    "df5_prediction = []\n",
    "\n",
    "predictions = model.predict(x_test)\n",
    "\n",
    "(predictions > 0.5).value_counts()"
   ]
  },
  {
   "cell_type": "code",
   "execution_count": 13,
   "metadata": {},
   "outputs": [
    {
     "data": {
      "text/plain": [
       "default\n",
       "False    6477\n",
       "True      223\n",
       "Name: count, dtype: int64"
      ]
     },
     "execution_count": 13,
     "metadata": {},
     "output_type": "execute_result"
    }
   ],
   "source": [
    "y_train.value_counts()"
   ]
  },
  {
   "cell_type": "code",
   "execution_count": null,
   "metadata": {},
   "outputs": [],
   "source": []
  }
 ],
 "metadata": {
  "kernelspec": {
   "display_name": "base",
   "language": "python",
   "name": "python3"
  },
  "language_info": {
   "codemirror_mode": {
    "name": "ipython",
    "version": 3
   },
   "file_extension": ".py",
   "mimetype": "text/x-python",
   "name": "python",
   "nbconvert_exporter": "python",
   "pygments_lexer": "ipython3",
   "version": "3.10.12"
  },
  "orig_nbformat": 4
 },
 "nbformat": 4,
 "nbformat_minor": 2
}
