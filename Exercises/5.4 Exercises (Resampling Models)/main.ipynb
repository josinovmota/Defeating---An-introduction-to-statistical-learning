{
 "cells": [
  {
   "cell_type": "code",
   "execution_count": 4,
   "metadata": {},
   "outputs": [],
   "source": [
    "# Libs\n",
    "\n",
    "from ISLP import load_data\n",
    "import pandas as pd \n",
    "import numpy as np \n",
    "import seaborn as sns\n",
    "import matplotlib.pyplot as plt\n",
    "import statsmodels.api as sm\n",
    "from sklearn.metrics import mean_squared_error\n",
    "from sklearn.model_selection import LeaveOneOut\n",
    "from sklearn.model_selection import train_test_split\n",
    "from sklearn.metrics import confusion_matrix, accuracy_score\n",
    "from ISLP.models import (ModelSpec as MS, summarize , poly)"
   ]
  },
  {
   "cell_type": "markdown",
   "metadata": {},
   "source": [
    "# Questão 5"
   ]
  },
  {
   "cell_type": "markdown",
   "metadata": {},
   "source": [
    "# a)"
   ]
  },
  {
   "cell_type": "code",
   "execution_count": 5,
   "metadata": {},
   "outputs": [],
   "source": [
    "np.random.seed(1)\n",
    "df = load_data('Default')"
   ]
  },
  {
   "cell_type": "code",
   "execution_count": 6,
   "metadata": {},
   "outputs": [
    {
     "name": "stdout",
     "output_type": "stream",
     "text": [
      "Optimization terminated successfully.\n",
      "         Current function value: inf\n",
      "         Iterations 8\n"
     ]
    },
    {
     "name": "stderr",
     "output_type": "stream",
     "text": [
      "c:\\Users\\Josino\\miniconda3\\Lib\\site-packages\\statsmodels\\discrete\\discrete_model.py:2383: RuntimeWarning: overflow encountered in exp\n",
      "  return 1/(1+np.exp(-X))\n",
      "c:\\Users\\Josino\\miniconda3\\Lib\\site-packages\\statsmodels\\discrete\\discrete_model.py:2441: RuntimeWarning: divide by zero encountered in log\n",
      "  return np.sum(np.log(self.cdf(q * linpred)))\n"
     ]
    }
   ],
   "source": [
    "df_5 = df[['default', 'income', 'balance']].copy()\n",
    "df_5['default'] = pd.get_dummies(df_5['default'], prefix='default', drop_first=True)\n",
    "\n",
    "\n",
    "x_train = df_5[['income', 'balance']].copy()\n",
    "y_train = df_5['default'].copy()\n",
    "\n",
    "model = sm.Logit(y_train, x_train).fit()"
   ]
  },
  {
   "cell_type": "markdown",
   "metadata": {},
   "source": [
    "# b)"
   ]
  },
  {
   "cell_type": "markdown",
   "metadata": {},
   "source": [
    "# i."
   ]
  },
  {
   "cell_type": "code",
   "execution_count": 7,
   "metadata": {},
   "outputs": [],
   "source": [
    "x_train, x_test, y_train, y_test = train_test_split(df_5[['income', 'balance']], df_5['default'], test_size=0.33, random_state=42)"
   ]
  },
  {
   "cell_type": "markdown",
   "metadata": {},
   "source": [
    "# ii."
   ]
  },
  {
   "cell_type": "code",
   "execution_count": 8,
   "metadata": {},
   "outputs": [
    {
     "name": "stdout",
     "output_type": "stream",
     "text": [
      "Optimization terminated successfully.\n",
      "         Current function value: inf\n",
      "         Iterations 8\n"
     ]
    },
    {
     "name": "stderr",
     "output_type": "stream",
     "text": [
      "c:\\Users\\Josino\\miniconda3\\Lib\\site-packages\\statsmodels\\discrete\\discrete_model.py:2383: RuntimeWarning: overflow encountered in exp\n",
      "  return 1/(1+np.exp(-X))\n",
      "c:\\Users\\Josino\\miniconda3\\Lib\\site-packages\\statsmodels\\discrete\\discrete_model.py:2441: RuntimeWarning: divide by zero encountered in log\n",
      "  return np.sum(np.log(self.cdf(q * linpred)))\n"
     ]
    }
   ],
   "source": [
    "model = sm.Logit(y_train, x_train).fit()"
   ]
  },
  {
   "cell_type": "markdown",
   "metadata": {},
   "source": [
    "# iii."
   ]
  },
  {
   "cell_type": "code",
   "execution_count": 9,
   "metadata": {},
   "outputs": [],
   "source": [
    "iii_group = pd.DataFrame()\n",
    "\n",
    "iii_group['default'] = (model.predict(x_test) > 0.5).astype(int)"
   ]
  },
  {
   "cell_type": "markdown",
   "metadata": {},
   "source": [
    "# iv."
   ]
  },
  {
   "cell_type": "code",
   "execution_count": 10,
   "metadata": {},
   "outputs": [
    {
     "name": "stdout",
     "output_type": "stream",
     "text": [
      "Nosso modelo teve uma accuracy de: 0.9663636363636363\n"
     ]
    }
   ],
   "source": [
    "accuracy = accuracy_score(y_test, iii_group.default)\n",
    "\n",
    "print(f'Nosso modelo teve uma accuracy de: {accuracy}')"
   ]
  },
  {
   "cell_type": "markdown",
   "metadata": {},
   "source": [
    "# c)"
   ]
  },
  {
   "cell_type": "code",
   "execution_count": 12,
   "metadata": {},
   "outputs": [
    {
     "name": "stdout",
     "output_type": "stream",
     "text": [
      "Nosso modelo teve uma accuracy de: 0.9696969696969697\n",
      "\n",
      "Nosso modelo teve uma accuracy de: 0.9687878787878788\n",
      "\n",
      "Nosso modelo teve uma accuracy de: 0.9648484848484848\n",
      "\n"
     ]
    }
   ],
   "source": [
    "for i in range(3):\n",
    "    x_train, x_test, y_train, y_test = train_test_split(df_5[['income', 'balance']], df_5['default'], test_size=0.33)\n",
    "\n",
    "    iii_group = pd.DataFrame()\n",
    "    iii_group['default'] = (model.predict(x_test) > 0.5).astype(int)\n",
    "    accuracy = accuracy_score(y_test, iii_group.default)\n",
    "\n",
    "    print(f'Nosso modelo teve uma accuracy de: {accuracy}\\n')\n",
    "\n",
    "\"\"\"\n",
    "Aparentemente os resultados sempre são bem positivos (accuracy alta, independente da amostra retirada)"
   ]
  },
  {
   "cell_type": "markdown",
   "metadata": {},
   "source": [
    "# d)"
   ]
  },
  {
   "cell_type": "code",
   "execution_count": null,
   "metadata": {},
   "outputs": [
    {
     "name": "stdout",
     "output_type": "stream",
     "text": [
      "Optimization terminated successfully.\n",
      "         Current function value: 0.129210\n",
      "         Iterations 9\n",
      "0.9718181818181818\n"
     ]
    }
   ],
   "source": [
    "df['student'] = pd.get_dummies(df['student'], drop_first=True).astype(int)\n",
    "\n",
    "df_5['student'] = df['student']\n",
    "\n",
    "x_train, x_test, y_train, y_test = train_test_split(df_5[['income', 'balance', 'student']], df_5['default'], test_size=0.33)\n",
    "\n",
    "model = sm.Logit(y_train, x_train).fit()\n",
    "\n",
    "d_group = pd.DataFrame()\n",
    "d_group['default'] = (model.predict(x_test > 0.5)).astype(int)\n",
    "\n",
    "accuracy = accuracy_score(y_test, d_group.default)\n",
    "\n",
    "print(accuracy)\n",
    "\n",
    "\"\"\"\n",
    "Continuou com valors próximos aos que já estavam"
   ]
  },
  {
   "cell_type": "markdown",
   "metadata": {},
   "source": [
    "# Questão 6"
   ]
  },
  {
   "cell_type": "markdown",
   "metadata": {},
   "source": [
    "# a)"
   ]
  },
  {
   "cell_type": "code",
   "execution_count": null,
   "metadata": {},
   "outputs": [
    {
     "name": "stdout",
     "output_type": "stream",
     "text": [
      "                 Generalized Linear Model Regression Results                  \n",
      "==============================================================================\n",
      "Dep. Variable:                    Yes   No. Observations:                10000\n",
      "Model:                            GLM   Df Residuals:                     9997\n",
      "Model Family:                Binomial   Df Model:                            2\n",
      "Link Function:                  Logit   Scale:                          1.0000\n",
      "Method:                          IRLS   Log-Likelihood:                -789.48\n",
      "Date:                Tue, 03 Oct 2023   Deviance:                       1579.0\n",
      "Time:                        10:32:21   Pearson chi2:                 6.95e+03\n",
      "No. Iterations:                     9   Pseudo R-squ. (CS):             0.1256\n",
      "Covariance Type:            nonrobust                                         \n",
      "==============================================================================\n",
      "                 coef    std err          z      P>|z|      [0.025      0.975]\n",
      "------------------------------------------------------------------------------\n",
      "const        -11.5405      0.435    -26.544      0.000     -12.393     -10.688\n",
      "income      2.081e-05   4.99e-06      4.174      0.000     1.1e-05    3.06e-05\n",
      "balance        0.0056      0.000     24.835      0.000       0.005       0.006\n",
      "==============================================================================\n"
     ]
    }
   ],
   "source": [
    "np.random.seed(1)\n",
    "df = load_data('Default')\n",
    "\n",
    "y_train = df['default'].copy()\n",
    "y_train = pd.get_dummies(y_train, drop_first=True).astype(int)\n",
    "x_train = df[['income', 'balance']].copy()\n",
    "\n",
    "x_train = sm.add_constant(x_train)\n",
    "\n",
    "model = sm.GLM(y_train, x_train, family=sm.families.Binomial()).fit()\n",
    "\n",
    "print(model.summary())"
   ]
  },
  {
   "cell_type": "markdown",
   "metadata": {},
   "source": [
    "# b)"
   ]
  },
  {
   "cell_type": "code",
   "execution_count": null,
   "metadata": {},
   "outputs": [],
   "source": [
    "# Função do bootstrap\n",
    "def boot_fn(df, index):\n",
    "    # Pegando uma sample aleatória do dataset\n",
    "    data_df = df.iloc[index]\n",
    "\n",
    "    # Modelo Logistic Regression\n",
    "    y_train = data_df['default']\n",
    "    x_train = data_df[['income', 'balance']]\n",
    "\n",
    "    x_train = sm.add_constant(x_train)\n",
    "\n",
    "    model = sm.Logit(y_train, x_train).fit(disp=0)\n",
    "    \n",
    "    return model.params['income'], model.params['balance']"
   ]
  },
  {
   "cell_type": "markdown",
   "metadata": {},
   "source": [
    "# c)"
   ]
  },
  {
   "cell_type": "code",
   "execution_count": null,
   "metadata": {},
   "outputs": [],
   "source": [
    "df['default'] = pd.get_dummies(df['default'], drop_first=True).astype(int)\n",
    "\n",
    "# N de repetições\n",
    "repeat_times = 1000\n",
    "\n",
    "# Arrays de valores para income e balance\n",
    "income_coefs = []\n",
    "balance_coefs = []\n",
    "\n",
    "# Mágica\n",
    "for _ in range(repeat_times):\n",
    "    index = np.random.randint(0, len(df), len(df))\n",
    "    income_coef, balance_coef = boot_fn(df, index)\n",
    "    income_coefs.append(income_coef)\n",
    "    balance_coefs.append(balance_coef)"
   ]
  },
  {
   "cell_type": "code",
   "execution_count": null,
   "metadata": {},
   "outputs": [
    {
     "name": "stdout",
     "output_type": "stream",
     "text": [
      "Standard error for Income = 4.929933743996096e-06\n",
      "Standard error for Balance = 0.00022260509699016862\n"
     ]
    }
   ],
   "source": [
    "std_income = np.std(income_coefs)\n",
    "std_balance = np.std(balance_coefs)\n",
    "\n",
    "print(f'Standard error for Income = {std_income}')\n",
    "print(f'Standard error for Balance = {std_balance}')"
   ]
  },
  {
   "cell_type": "markdown",
   "metadata": {},
   "source": [
    "# d)"
   ]
  },
  {
   "cell_type": "code",
   "execution_count": null,
   "metadata": {},
   "outputs": [],
   "source": [
    "\"\"\"\n",
    "Deu valores bem próximos"
   ]
  },
  {
   "cell_type": "markdown",
   "metadata": {},
   "source": [
    "# Questão 7"
   ]
  },
  {
   "cell_type": "markdown",
   "metadata": {},
   "source": [
    "# a)"
   ]
  },
  {
   "cell_type": "code",
   "execution_count": null,
   "metadata": {},
   "outputs": [
    {
     "name": "stdout",
     "output_type": "stream",
     "text": [
      "                 Generalized Linear Model Regression Results                  \n",
      "==============================================================================\n",
      "Dep. Variable:                     Up   No. Observations:                 1089\n",
      "Model:                            GLM   Df Residuals:                     1086\n",
      "Model Family:                Binomial   Df Model:                            2\n",
      "Link Function:                  Logit   Scale:                          1.0000\n",
      "Method:                          IRLS   Log-Likelihood:                -744.11\n",
      "Date:                Wed, 04 Oct 2023   Deviance:                       1488.2\n",
      "Time:                        09:12:21   Pearson chi2:                 1.09e+03\n",
      "No. Iterations:                     4   Pseudo R-squ. (CS):           0.007303\n",
      "Covariance Type:            nonrobust                                         \n",
      "==============================================================================\n",
      "                 coef    std err          z      P>|z|      [0.025      0.975]\n",
      "------------------------------------------------------------------------------\n",
      "const          0.2212      0.061      3.599      0.000       0.101       0.342\n",
      "Lag1          -0.0387      0.026     -1.477      0.140      -0.090       0.013\n",
      "Lag2           0.0602      0.027      2.270      0.023       0.008       0.112\n",
      "==============================================================================\n"
     ]
    }
   ],
   "source": [
    "df = load_data('Weekly')\n",
    "\n",
    "y_train = pd.get_dummies(df['Direction'], drop_first=True).astype(int)\n",
    "x_train = df[['Lag1', 'Lag2']].copy()\n",
    "x_train = sm.add_constant(x_train)\n",
    "\n",
    "model = sm.GLM(y_train, x_train, family=sm.families.Binomial()).fit()\n",
    "\n",
    "print(model.summary())"
   ]
  },
  {
   "cell_type": "markdown",
   "metadata": {},
   "source": [
    "# b)"
   ]
  },
  {
   "cell_type": "code",
   "execution_count": null,
   "metadata": {},
   "outputs": [
    {
     "name": "stdout",
     "output_type": "stream",
     "text": [
      "                 Generalized Linear Model Regression Results                  \n",
      "==============================================================================\n",
      "Dep. Variable:                     Up   No. Observations:                 1088\n",
      "Model:                            GLM   Df Residuals:                     1085\n",
      "Model Family:                Binomial   Df Model:                            2\n",
      "Link Function:                  Logit   Scale:                          1.0000\n",
      "Method:                          IRLS   Log-Likelihood:                -743.26\n",
      "Date:                Wed, 04 Oct 2023   Deviance:                       1486.5\n",
      "Time:                        09:12:22   Pearson chi2:                 1.09e+03\n",
      "No. Iterations:                     4   Pseudo R-squ. (CS):           0.007373\n",
      "Covariance Type:            nonrobust                                         \n",
      "==============================================================================\n",
      "                 coef    std err          z      P>|z|      [0.025      0.975]\n",
      "------------------------------------------------------------------------------\n",
      "const          0.2232      0.061      3.630      0.000       0.103       0.344\n",
      "Lag1          -0.0384      0.026     -1.466      0.143      -0.090       0.013\n",
      "Lag2           0.0608      0.027      2.291      0.022       0.009       0.113\n",
      "==============================================================================\n"
     ]
    }
   ],
   "source": [
    "y_train = pd.get_dummies(df['Direction'].iloc[1:], drop_first=True).astype(int)\n",
    "x_train = df[['Lag1', 'Lag2']].iloc[1:].copy()\n",
    "x_train = sm.add_constant(x_train)\n",
    "\n",
    "model = sm.GLM(y_train, x_train, family=sm.families.Binomial()).fit()\n",
    "\n",
    "print(model.summary())"
   ]
  },
  {
   "cell_type": "markdown",
   "metadata": {},
   "source": [
    "# c)"
   ]
  },
  {
   "cell_type": "code",
   "execution_count": null,
   "metadata": {},
   "outputs": [
    {
     "name": "stdout",
     "output_type": "stream",
     "text": [
      "False\n"
     ]
    }
   ],
   "source": [
    "x_new = df[['Lag1', 'Lag2']].iloc[0].copy()\n",
    "x_new = np.insert(x_new, 0, 1)\n",
    "\n",
    "prediction_prob = model.predict(x_new)\n",
    "prediction = 'Up' if prediction_prob > 0.5 else 'Down'\n",
    "\n",
    "actual_direction = df['Direction'][0]\n",
    "\n",
    "answer = print('Correct') if actual_direction == prediction else print('False')"
   ]
  },
  {
   "cell_type": "markdown",
   "metadata": {},
   "source": [
    "# d)"
   ]
  },
  {
   "cell_type": "code",
   "execution_count": null,
   "metadata": {},
   "outputs": [],
   "source": [
    "correct_answer = []\n",
    "\n",
    "for i in range(len(df) - 1):\n",
    "    train = df.drop(index=i)\n",
    "    test = df.iloc[[i]]\n",
    "\n",
    "    x_train = train[['Lag1', 'Lag2']].copy()\n",
    "    x_train = sm.add_constant(x_train)\n",
    "    y_train = train['Direction'].copy()\n",
    "    y_train = pd.get_dummies(y_train, drop_first=True).astype(int)\n",
    "\n",
    "    x_test = test[['Lag1', 'Lag2']]\n",
    "    x_test = np.insert(x_test, 0, 1)\n",
    "\n",
    "    model = sm.Logit(y_train, x_train).fit(disp=0)\n",
    "\n",
    "    posterior_prob = model.predict(x_test)\n",
    "\n",
    "    pred = 'Up' if posterior_prob > 0.5 else 'Down'\n",
    "    \n",
    "    df['Direction'] == pred if correct_answer.append(0) else correct_answer.append(1)"
   ]
  },
  {
   "cell_type": "markdown",
   "metadata": {},
   "source": [
    "# e)"
   ]
  },
  {
   "cell_type": "code",
   "execution_count": null,
   "metadata": {},
   "outputs": [
    {
     "data": {
      "text/plain": [
       "0.5"
      ]
     },
     "execution_count": 20,
     "metadata": {},
     "output_type": "execute_result"
    }
   ],
   "source": [
    "np.mean(correct_answer)\n",
    "\n",
    "\"\"\"\n",
    "LOOCV estimate test error deu 0.5, ou seja, nosso modelo não performa muito bem para os dados\n",
    "de teste (coisa essa que é normal de ocorrer, já que treinamos usando apenas os de treino)"
   ]
  },
  {
   "cell_type": "markdown",
   "metadata": {},
   "source": [
    "# Questão 8"
   ]
  },
  {
   "cell_type": "markdown",
   "metadata": {},
   "source": [
    "# a)"
   ]
  },
  {
   "cell_type": "code",
   "execution_count": null,
   "metadata": {},
   "outputs": [],
   "source": [
    "rng = np.random.default_rng(1)\n",
    "x = rng.normal(size=100)\n",
    "y = x - 2 * x**2 + rng.normal(size=100)\n",
    "\n",
    "\"\"\"\n",
    "F(x) = B_0 + B_1_x + e\n",
    "F(x) = B_0 + x + e"
   ]
  },
  {
   "cell_type": "markdown",
   "metadata": {},
   "source": [
    "# b)"
   ]
  },
  {
   "cell_type": "code",
   "execution_count": null,
   "metadata": {},
   "outputs": [
    {
     "data": {
      "text/plain": [
       "<Axes: >"
      ]
     },
     "execution_count": 53,
     "metadata": {},
     "output_type": "execute_result"
    },
    {
     "data": {
      "image/png": "[encoded data removed]",
      "text/plain": [
       "<Figure size 640x480 with 1 Axes>"
      ]
     },
     "metadata": {},
     "output_type": "display_data"
    }
   ],
   "source": [
    "sns.scatterplot(x = x, y = y)\n",
    "\n",
    "\"\"\"\n",
    "Formou uma parábola, coisa essa que evidencia que devemos usar um modelo\n",
    "mais flexível com uma abordagem quadrática"
   ]
  },
  {
   "cell_type": "markdown",
   "metadata": {},
   "source": [
    "# c)"
   ]
  },
  {
   "cell_type": "code",
   "execution_count": null,
   "metadata": {},
   "outputs": [
    {
     "name": "stdout",
     "output_type": "stream",
     "text": [
      "df1 = 6.633029839181983\n",
      "df2 = 1.122936856341969\n",
      "df3 = 1.3017965489358867\n",
      "df4 = 1.3323942694179325\n"
     ]
    }
   ],
   "source": [
    "def create_data_with_seed(seed):\n",
    "    rng = np.random.default_rng(seed)\n",
    "    x = rng.normal(size=100)\n",
    "    y = x - 2 * x**2 + rng.normal(size=100)\n",
    "\n",
    "    def apply_loocv(x, y):\n",
    "        loo = LeaveOneOut()\n",
    "        loo.get_n_splits(x)\n",
    "        loo_list = []\n",
    "\n",
    "        for i, (train_index, test_index) in enumerate(loo.split(x)):\n",
    "            x_train, x_test = x[train_index], x[test_index]\n",
    "            y_train, y_test = y[train_index], y[test_index]\n",
    "\n",
    "            model = sm.OLS(y_train, x_train).fit()\n",
    "\n",
    "            y_pred = model.predict(x_test)\n",
    "\n",
    "            error = mean_squared_error(y_test, y_pred)\n",
    "            loo_list.append(error)\n",
    "        return np.mean(loo_list)\n",
    "\n",
    "    x1 = sm.add_constant(x)\n",
    "    x2 = sm.add_constant(np.column_stack((x, x**2)))\n",
    "    x3 = sm.add_constant(np.column_stack((x, x**2, x**3)))\n",
    "    x4 = sm.add_constant(np.column_stack((x, x**2, x**3, x**4)))\n",
    "\n",
    "    error1 = apply_loocv(x1, y)\n",
    "    error2 = apply_loocv(x2, y)\n",
    "    error3 = apply_loocv(x3, y)\n",
    "    error4 = apply_loocv(x4, y)\n",
    "\n",
    "    return print(f'df1 = {error1}\\ndf2 = {error2}\\ndf3 = {error3}\\ndf4 = {error4}')\n",
    "\n",
    "create_data_with_seed(1)"
   ]
  },
  {
   "cell_type": "markdown",
   "metadata": {},
   "source": [
    "# d)"
   ]
  },
  {
   "cell_type": "code",
   "execution_count": null,
   "metadata": {},
   "outputs": [
    {
     "name": "stdout",
     "output_type": "stream",
     "text": [
      "df1 = 7.56060369435858\n",
      "df2 = 0.9840371744582573\n",
      "df3 = 0.9682355765918602\n",
      "df4 = 0.9659585554875675\n"
     ]
    }
   ],
   "source": [
    "create_data_with_seed(2)\n",
    "\n",
    "\"\"\"\n",
    "Não são so mesmos, já que agora os números parcialmente randômicos são diferentes"
   ]
  },
  {
   "cell_type": "markdown",
   "metadata": {},
   "source": [
    "# e)"
   ]
  },
  {
   "cell_type": "code",
   "execution_count": null,
   "metadata": {},
   "outputs": [],
   "source": [
    "\"\"\"\n",
    "O que teve a menor média de erro foi o IV, sim. Quando plottei X em relação a Y, pude\n",
    "notar que a relação entre os dados era distante de Linear, precisando assim, que usássemos\n",
    "um modelo mais flexível, diferente da abordagem do I, que é linear, mas também, não esperava\n",
    "que o erro diminuisse muito após passarmos da abordagem quadrática, já que os dados seguiam\n",
    "um formato próximo ao de uma parábola"
   ]
  },
  {
   "cell_type": "markdown",
   "metadata": {},
   "source": [
    "# f)"
   ]
  },
  {
   "cell_type": "code",
   "execution_count": null,
   "metadata": {},
   "outputs": [],
   "source": [
    "\"\"\"\n",
    "As estimativas são boas para descobrirmos se o modelo está adequado aos dados, pois, muitas vezes,\n",
    "ao treinarmos o modelo, ele pode se sair muito bem apenas com os dados de treino, mas ao apresentarmos\n",
    "real world problems, ele pode acabar sendo ruim, então essa validação é importante. Os resultados\n",
    "condizem com o que a análise exploratória nos indicou. Um formato de uma parábola na relação entre os\n",
    "dados"
   ]
  },
  {
   "cell_type": "markdown",
   "metadata": {},
   "source": [
    "# Questão 9"
   ]
  },
  {
   "cell_type": "markdown",
   "metadata": {},
   "source": [
    "# a)"
   ]
  },
  {
   "cell_type": "code",
   "execution_count": null,
   "metadata": {},
   "outputs": [],
   "source": [
    "df = load_data('Boston')\n",
    "\n",
    "est_mean = df['medv'].mean()"
   ]
  },
  {
   "cell_type": "markdown",
   "metadata": {},
   "source": [
    "# b)"
   ]
  },
  {
   "cell_type": "code",
   "execution_count": null,
   "metadata": {},
   "outputs": [
    {
     "name": "stdout",
     "output_type": "stream",
     "text": [
      "0.4084569346972867\n"
     ]
    }
   ],
   "source": [
    "est_ste = (np.std(df['medv']) / np.sqrt(len(df['medv'])))\n",
    "\n",
    "print(est_ste)"
   ]
  },
  {
   "cell_type": "markdown",
   "metadata": {},
   "source": [
    "# c)"
   ]
  },
  {
   "cell_type": "code",
   "execution_count": null,
   "metadata": {},
   "outputs": [
    {
     "name": "stdout",
     "output_type": "stream",
     "text": [
      "0.40242981708806935\n"
     ]
    }
   ],
   "source": [
    "n = len(df.medv)\n",
    "\n",
    "def bootstrap(data, n):\n",
    "    return np.random.choice(data, size=n , replace=True)\n",
    "\n",
    "bootstrap_num = 1000\n",
    "\n",
    "bootstrap_means = [np.mean(bootstrap(df.medv, n)) for _ in range(bootstrap_num)]\n",
    "\n",
    "bootstrap_ste = np.std(bootstrap_means)\n",
    "\n",
    "print(bootstrap_ste)\n",
    "\n",
    "\"\"\"\n",
    "São valores bem próximos"
   ]
  },
  {
   "cell_type": "markdown",
   "metadata": {},
   "source": [
    "# d)"
   ]
  },
  {
   "cell_type": "code",
   "execution_count": null,
   "metadata": {},
   "outputs": [
    {
     "name": "stdout",
     "output_type": "stream",
     "text": [
      "[21.715892454716105, 23.34972019350525] [21.69279722728823, 23.372815420933122]\n"
     ]
    }
   ],
   "source": [
    "interval1 = [est_mean - 2 * est_ste, est_mean + 2 * est_ste]\n",
    "\n",
    "interval2 = [est_mean - 2 * bootstrap_ste, est_mean + 2 * bootstrap_ste]\n",
    "\n",
    "print(interval1, interval2)\n",
    "\n",
    "\"\"\"\n",
    "Ambos intervalos são muito próximos, tendo apenas uma diferença de 1.68 entre eles"
   ]
  },
  {
   "cell_type": "markdown",
   "metadata": {},
   "source": [
    "# e)"
   ]
  },
  {
   "cell_type": "code",
   "execution_count": null,
   "metadata": {},
   "outputs": [
    {
     "data": {
      "text/plain": [
       "21.2"
      ]
     },
     "execution_count": 42,
     "metadata": {},
     "output_type": "execute_result"
    }
   ],
   "source": [
    "np.median(df.medv)"
   ]
  },
  {
   "cell_type": "markdown",
   "metadata": {},
   "source": [
    "# f)"
   ]
  },
  {
   "cell_type": "code",
   "execution_count": null,
   "metadata": {},
   "outputs": [
    {
     "name": "stdout",
     "output_type": "stream",
     "text": [
      "0.3701049040474873\n"
     ]
    }
   ],
   "source": [
    "n = len(df.medv)\n",
    "\n",
    "def bootstrap(data, n):\n",
    "    return np.random.choice(data, size=n , replace=True)\n",
    "\n",
    "bootstrap_num = 1000\n",
    "\n",
    "bootstrap_means = [np.median(bootstrap(df.medv, n)) for _ in range(bootstrap_num)]\n",
    "\n",
    "bootstrap_ste = np.std(bootstrap_means)\n",
    "\n",
    "print(bootstrap_ste)\n",
    "\n",
    "\"\"\"\n",
    "Isso representa que a média tem uma variabilidade de 0.37 do True Population Median"
   ]
  },
  {
   "cell_type": "markdown",
   "metadata": {},
   "source": [
    "# g)"
   ]
  },
  {
   "cell_type": "code",
   "execution_count": null,
   "metadata": {},
   "outputs": [
    {
     "data": {
      "text/plain": [
       "12.75"
      ]
     },
     "execution_count": 45,
     "metadata": {},
     "output_type": "execute_result"
    }
   ],
   "source": [
    "medv_mean_0.1 = np.percentile(df.medv, 10)"
   ]
  },
  {
   "cell_type": "markdown",
   "metadata": {},
   "source": [
    "# h)"
   ]
  },
  {
   "cell_type": "code",
   "execution_count": null,
   "metadata": {},
   "outputs": [
    {
     "name": "stdout",
     "output_type": "stream",
     "text": [
      "0.5040103148746065\n"
     ]
    }
   ],
   "source": [
    "n = len(df.medv)\n",
    "\n",
    "def bootstrap(data, n):\n",
    "    return np.random.choice(data, size=n , replace=True)\n",
    "\n",
    "bootstrap_num = 1000\n",
    "\n",
    "bootstrap_means = [np.percentile(bootstrap(df.medv, n), 10) for _ in range(bootstrap_num)]\n",
    "\n",
    "bootstrap_ste = np.std(bootstrap_means)\n",
    "\n",
    "print(bootstrap_ste)\n",
    "\n",
    "\"\"\"\n",
    "Podemos esperar uma variação de 0.5 no 10° Percentile"
   ]
  }
 ],
 "metadata": {
  "kernelspec": {
   "display_name": "base",
   "language": "python",
   "name": "python3"
  },
  "language_info": {
   "codemirror_mode": {
    "name": "ipython",
    "version": 3
   },
   "file_extension": ".py",
   "mimetype": "text/x-python",
   "name": "python",
   "nbconvert_exporter": "python",
   "pygments_lexer": "ipython3",
   "version": "3.11.5"
  },
  "orig_nbformat": 4
 },
 "nbformat": 4,
 "nbformat_minor": 2
}
