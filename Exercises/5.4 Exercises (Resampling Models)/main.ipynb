{
 "cells": [
  {
   "cell_type": "code",
   "execution_count": 1,
   "metadata": {},
   "outputs": [],
   "source": [
    "# Libs\n",
    "\n",
    "from ISLP import load_data\n",
    "import pandas as pd \n",
    "import numpy as np \n",
    "import seaborn as sns\n",
    "import matplotlib.pyplot as plt\n",
    "import statsmodels.api as sm\n",
    "from sklearn.model_selection import train_test_split\n",
    "from sklearn.metrics import confusion_matrix, accuracy_score\n",
    "from ISLP.models import (ModelSpec as MS, summarize , poly)"
   ]
  },
  {
   "cell_type": "markdown",
   "metadata": {},
   "source": [
    "# Questão 5"
   ]
  },
  {
   "cell_type": "markdown",
   "metadata": {},
   "source": [
    "# a)"
   ]
  },
  {
   "cell_type": "code",
   "execution_count": 43,
   "metadata": {},
   "outputs": [],
   "source": [
    "np.random.seed(1)\n",
    "df = load_data('Default')"
   ]
  },
  {
   "cell_type": "code",
   "execution_count": 4,
   "metadata": {},
   "outputs": [
    {
     "name": "stdout",
     "output_type": "stream",
     "text": [
      "Optimization terminated successfully.\n",
      "         Current function value: 0.173456\n",
      "         Iterations 8\n"
     ]
    }
   ],
   "source": [
    "df_5 = df[['default', 'income', 'balance']].copy()\n",
    "df_5['default'] = pd.get_dummies(df_5['default'], prefix='default', drop_first=True)\n",
    "\n",
    "\n",
    "x_train = df_5[['income', 'balance']].copy()\n",
    "y_train = df_5['default'].copy()\n",
    "\n",
    "model = sm.Logit(y_train, x_train).fit()"
   ]
  },
  {
   "cell_type": "markdown",
   "metadata": {},
   "source": [
    "# b)"
   ]
  },
  {
   "cell_type": "markdown",
   "metadata": {},
   "source": [
    "# i."
   ]
  },
  {
   "cell_type": "code",
   "execution_count": 39,
   "metadata": {},
   "outputs": [],
   "source": [
    "x_train, x_test, y_train, y_test = train_test_split(df_5[['income', 'balance']], df_5['default'], test_size=0.33, random_state=42)"
   ]
  },
  {
   "cell_type": "markdown",
   "metadata": {},
   "source": [
    "# ii."
   ]
  },
  {
   "cell_type": "code",
   "execution_count": 44,
   "metadata": {},
   "outputs": [
    {
     "name": "stdout",
     "output_type": "stream",
     "text": [
      "Optimization terminated successfully.\n",
      "         Current function value: 0.170523\n",
      "         Iterations 8\n"
     ]
    }
   ],
   "source": [
    "model = sm.Logit(y_train, x_train).fit()"
   ]
  },
  {
   "cell_type": "markdown",
   "metadata": {},
   "source": [
    "# iii."
   ]
  },
  {
   "cell_type": "code",
   "execution_count": 47,
   "metadata": {},
   "outputs": [],
   "source": [
    "iii_group = pd.DataFrame()\n",
    "\n",
    "iii_group['default'] = (model.predict(x_test) > 0.5).astype(int)"
   ]
  },
  {
   "cell_type": "markdown",
   "metadata": {},
   "source": [
    "# iv."
   ]
  },
  {
   "cell_type": "code",
   "execution_count": 54,
   "metadata": {},
   "outputs": [
    {
     "name": "stdout",
     "output_type": "stream",
     "text": [
      "Nosso modelo teve uma accuracy de: 0.9663636363636363\n"
     ]
    }
   ],
   "source": [
    "accuracy = accuracy_score(y_test, iii_group.default)\n",
    "\n",
    "print(f'Nosso modelo teve uma accuracy de: {accuracy}')"
   ]
  },
  {
   "cell_type": "markdown",
   "metadata": {},
   "source": [
    "# c)"
   ]
  },
  {
   "cell_type": "code",
   "execution_count": 58,
   "metadata": {},
   "outputs": [
    {
     "name": "stdout",
     "output_type": "stream",
     "text": [
      "Nosso modelo teve uma accuracy de: 0.9696969696969697\n",
      "\n",
      "Nosso modelo teve uma accuracy de: 0.9687878787878788\n",
      "\n",
      "Nosso modelo teve uma accuracy de: 0.9648484848484848\n",
      "\n"
     ]
    }
   ],
   "source": [
    "for i in range(3):\n",
    "    x_train, x_test, y_train, y_test = train_test_split(df_5[['income', 'balance']], df_5['default'], test_size=0.33)\n",
    "\n",
    "    iii_group = pd.DataFrame()\n",
    "    iii_group['default'] = (model.predict(x_test) > 0.5).astype(int)\n",
    "    accuracy = accuracy_score(y_test, iii_group.default)\n",
    "\n",
    "    print(f'Nosso modelo teve uma accuracy de: {accuracy}\\n')\n",
    "\n",
    "\"\"\"\n",
    "Aparentemente os resultados sempre são bem positivos (accuracy alta, independente da amostra retirada)"
   ]
  },
  {
   "cell_type": "markdown",
   "metadata": {},
   "source": [
    "# d)"
   ]
  },
  {
   "cell_type": "code",
   "execution_count": 80,
   "metadata": {},
   "outputs": [
    {
     "name": "stdout",
     "output_type": "stream",
     "text": [
      "Optimization terminated successfully.\n",
      "         Current function value: 0.129210\n",
      "         Iterations 9\n",
      "0.9718181818181818\n"
     ]
    }
   ],
   "source": [
    "df['student'] = pd.get_dummies(df['student'], drop_first=True).astype(int)\n",
    "\n",
    "df_5['student'] = df['student']\n",
    "\n",
    "x_train, x_test, y_train, y_test = train_test_split(df_5[['income', 'balance', 'student']], df_5['default'], test_size=0.33)\n",
    "\n",
    "model = sm.Logit(y_train, x_train).fit()\n",
    "\n",
    "d_group = pd.DataFrame()\n",
    "d_group['default'] = (model.predict(x_test > 0.5)).astype(int)\n",
    "\n",
    "accuracy = accuracy_score(y_test, d_group.default)\n",
    "\n",
    "print(accuracy)\n",
    "\n",
    "\"\"\"\n",
    "Continuou com valors próximos aos que já estavam"
   ]
  },
  {
   "cell_type": "markdown",
   "metadata": {},
   "source": [
    "# Questão 6"
   ]
  },
  {
   "cell_type": "markdown",
   "metadata": {},
   "source": [
    "# a)"
   ]
  },
  {
   "cell_type": "code",
   "execution_count": 33,
   "metadata": {},
   "outputs": [
    {
     "name": "stdout",
     "output_type": "stream",
     "text": [
      "                 Generalized Linear Model Regression Results                  \n",
      "==============================================================================\n",
      "Dep. Variable:                    Yes   No. Observations:                10000\n",
      "Model:                            GLM   Df Residuals:                     9997\n",
      "Model Family:                Binomial   Df Model:                            2\n",
      "Link Function:                  Logit   Scale:                          1.0000\n",
      "Method:                          IRLS   Log-Likelihood:                -789.48\n",
      "Date:                Tue, 03 Oct 2023   Deviance:                       1579.0\n",
      "Time:                        10:32:21   Pearson chi2:                 6.95e+03\n",
      "No. Iterations:                     9   Pseudo R-squ. (CS):             0.1256\n",
      "Covariance Type:            nonrobust                                         \n",
      "==============================================================================\n",
      "                 coef    std err          z      P>|z|      [0.025      0.975]\n",
      "------------------------------------------------------------------------------\n",
      "const        -11.5405      0.435    -26.544      0.000     -12.393     -10.688\n",
      "income      2.081e-05   4.99e-06      4.174      0.000     1.1e-05    3.06e-05\n",
      "balance        0.0056      0.000     24.835      0.000       0.005       0.006\n",
      "==============================================================================\n"
     ]
    }
   ],
   "source": [
    "np.random.seed(1)\n",
    "df = load_data('Default')\n",
    "\n",
    "y_train = df['default'].copy()\n",
    "y_train = pd.get_dummies(y_train, drop_first=True).astype(int)\n",
    "x_train = df[['income', 'balance']].copy()\n",
    "\n",
    "x_train = sm.add_constant(x_train)\n",
    "\n",
    "model = sm.GLM(y_train, x_train, family=sm.families.Binomial()).fit()\n",
    "\n",
    "print(model.summary())"
   ]
  },
  {
   "cell_type": "markdown",
   "metadata": {},
   "source": [
    "# b)"
   ]
  },
  {
   "cell_type": "code",
   "execution_count": 49,
   "metadata": {},
   "outputs": [],
   "source": [
    "# Função do bootstrap\n",
    "def boot_fn(df, index):\n",
    "    # Pegando uma sample aleatória do dataset\n",
    "    data_df = df.iloc[index]\n",
    "\n",
    "    # Modelo Logistic Regression\n",
    "    y_train = data_df['default']\n",
    "    x_train = data_df[['income', 'balance']]\n",
    "\n",
    "    x_train = sm.add_constant(x_train)\n",
    "\n",
    "    model = sm.Logit(y_train, x_train).fit(disp=0)\n",
    "    \n",
    "    return model.params['income'], model.params['balance']"
   ]
  },
  {
   "cell_type": "markdown",
   "metadata": {},
   "source": [
    "# c)"
   ]
  },
  {
   "cell_type": "code",
   "execution_count": 50,
   "metadata": {},
   "outputs": [],
   "source": [
    "df['default'] = pd.get_dummies(df['default'], drop_first=True).astype(int)\n",
    "\n",
    "# N de repetições\n",
    "repeat_times = 1000\n",
    "\n",
    "# Arrays de valores para income e balance\n",
    "income_coefs = []\n",
    "balance_coefs = []\n",
    "\n",
    "# Mágica\n",
    "for _ in range(repeat_times):\n",
    "    index = np.random.randint(0, len(df), len(df))\n",
    "    income_coef, balance_coef = boot_fn(df, index)\n",
    "    income_coefs.append(income_coef)\n",
    "    balance_coefs.append(balance_coef)"
   ]
  },
  {
   "cell_type": "code",
   "execution_count": 51,
   "metadata": {},
   "outputs": [
    {
     "name": "stdout",
     "output_type": "stream",
     "text": [
      "Standard error for Income = 4.929933743996096e-06\n",
      "Standard error for Balance = 0.00022260509699016862\n"
     ]
    }
   ],
   "source": [
    "std_income = np.std(income_coefs)\n",
    "std_balance = np.std(balance_coefs)\n",
    "\n",
    "print(f'Standard error for Income = {std_income}')\n",
    "print(f'Standard error for Balance = {std_balance}')"
   ]
  },
  {
   "cell_type": "markdown",
   "metadata": {},
   "source": [
    "# d)"
   ]
  },
  {
   "cell_type": "code",
   "execution_count": null,
   "metadata": {},
   "outputs": [],
   "source": [
    "\"\"\"\n",
    "Deu valores bem próximos"
   ]
  },
  {
   "cell_type": "markdown",
   "metadata": {},
   "source": [
    "# Questão 7"
   ]
  },
  {
   "cell_type": "code",
   "execution_count": 61,
   "metadata": {},
   "outputs": [
    {
     "name": "stdout",
     "output_type": "stream",
     "text": [
      "                 Generalized Linear Model Regression Results                  \n",
      "==============================================================================\n",
      "Dep. Variable:                     Up   No. Observations:                 1089\n",
      "Model:                            GLM   Df Residuals:                     1086\n",
      "Model Family:                Binomial   Df Model:                            2\n",
      "Link Function:                  Logit   Scale:                          1.0000\n",
      "Method:                          IRLS   Log-Likelihood:                -744.11\n",
      "Date:                Tue, 03 Oct 2023   Deviance:                       1488.2\n",
      "Time:                        10:55:53   Pearson chi2:                 1.09e+03\n",
      "No. Iterations:                     4   Pseudo R-squ. (CS):           0.007303\n",
      "Covariance Type:            nonrobust                                         \n",
      "==============================================================================\n",
      "                 coef    std err          z      P>|z|      [0.025      0.975]\n",
      "------------------------------------------------------------------------------\n",
      "const          0.2212      0.061      3.599      0.000       0.101       0.342\n",
      "Lag1          -0.0387      0.026     -1.477      0.140      -0.090       0.013\n",
      "Lag2           0.0602      0.027      2.270      0.023       0.008       0.112\n",
      "==============================================================================\n"
     ]
    }
   ],
   "source": [
    "df = load_data('Weekly')\n",
    "\n",
    "y_train = pd.get_dummies(df['Direction'], drop_first=True).astype(int)\n",
    "x_train = df[['Lag1', 'Lag2']].copy()\n",
    "x_train = sm.add_constant(x_train)\n",
    "\n",
    "model = sm.GLM(y_train, x_train, family=sm.families.Binomial()).fit()\n",
    "\n",
    "print(model.summary())"
   ]
  },
  {
   "cell_type": "code",
   "execution_count": 71,
   "metadata": {},
   "outputs": [
    {
     "name": "stdout",
     "output_type": "stream",
     "text": [
      "                 Generalized Linear Model Regression Results                  \n",
      "==============================================================================\n",
      "Dep. Variable:                     Up   No. Observations:                 1088\n",
      "Model:                            GLM   Df Residuals:                     1085\n",
      "Model Family:                Binomial   Df Model:                            2\n",
      "Link Function:                  Logit   Scale:                          1.0000\n",
      "Method:                          IRLS   Log-Likelihood:                -743.26\n",
      "Date:                Tue, 03 Oct 2023   Deviance:                       1486.5\n",
      "Time:                        11:03:42   Pearson chi2:                 1.09e+03\n",
      "No. Iterations:                     4   Pseudo R-squ. (CS):           0.007373\n",
      "Covariance Type:            nonrobust                                         \n",
      "==============================================================================\n",
      "                 coef    std err          z      P>|z|      [0.025      0.975]\n",
      "------------------------------------------------------------------------------\n",
      "const          0.2232      0.061      3.630      0.000       0.103       0.344\n",
      "Lag1          -0.0384      0.026     -1.466      0.143      -0.090       0.013\n",
      "Lag2           0.0608      0.027      2.291      0.022       0.009       0.113\n",
      "==============================================================================\n"
     ]
    }
   ],
   "source": [
    "y_train = pd.get_dummies(df['Direction'].iloc[1:], drop_first=True).astype(int)\n",
    "x_train = df[['Lag1', 'Lag2']].iloc[1:].copy()\n",
    "x_train = sm.add_constant(x_train)\n",
    "\n",
    "model = sm.GLM(y_train, x_train, family=sm.families.Binomial()).fit()\n",
    "\n",
    "print(model.summary())"
   ]
  },
  {
   "cell_type": "markdown",
   "metadata": {},
   "source": [
    "# c)"
   ]
  },
  {
   "cell_type": "code",
   "execution_count": 111,
   "metadata": {},
   "outputs": [
    {
     "name": "stdout",
     "output_type": "stream",
     "text": [
      "False\n"
     ]
    }
   ],
   "source": [
    "x_new = df[['Lag1', 'Lag2']].iloc[0].copy()\n",
    "\n",
    "# Dar uma olhada nisso\n",
    "x_new = np.insert(x_new, 0, 1)\n",
    "\n",
    "prediction_prob = model.predict(x_new)\n",
    "prediction = 'Up' if prediction_prob > 0.5 else 'Down'\n",
    "\n",
    "actual_direction = df['Direction'][0]\n",
    "\n",
    "answer = print('Correct') if actual_direction == prediction else print('False')"
   ]
  },
  {
   "cell_type": "code",
   "execution_count": null,
   "metadata": {},
   "outputs": [],
   "source": []
  }
 ],
 "metadata": {
  "kernelspec": {
   "display_name": "base",
   "language": "python",
   "name": "python3"
  },
  "language_info": {
   "codemirror_mode": {
    "name": "ipython",
    "version": 3
   },
   "file_extension": ".py",
   "mimetype": "text/x-python",
   "name": "python",
   "nbconvert_exporter": "python",
   "pygments_lexer": "ipython3",
   "version": "3.10.12"
  },
  "orig_nbformat": 4
 },
 "nbformat": 4,
 "nbformat_minor": 2
}
