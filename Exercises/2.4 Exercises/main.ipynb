{
 "cells": [
  {
   "cell_type": "code",
   "execution_count": 1,
   "metadata": {},
   "outputs": [],
   "source": [
    "import pandas as pd\n",
    "import matplotlib.pyplot as plt\n",
    "import numpy as np"
   ]
  },
  {
   "attachments": {},
   "cell_type": "markdown",
   "metadata": {},
   "source": [
    "For each of parts (a) through (d), indicate whether we would generally\n",
    "expect the performance of a flexible statistical learning method to be\n",
    "better or worse than an inflexible method. Justify your answer.\n",
    "\n",
    "(a) The sample size n is extremely large, and the number of predictors p is small.\n",
    "\n",
    "(b) The number of predictors p is extremely large, and the number\n",
    "of observations n is small.\n",
    "\n",
    "(c) The relationship between the predictors and response is highly\n",
    "non-linear.\n",
    "\n",
    "(d) The variance of the error terms, i.e. σ2 = Var(ϵ), is extremely\n",
    "high"
   ]
  },
  {
   "attachments": {},
   "cell_type": "markdown",
   "metadata": {},
   "source": [
    "https://josinovmota.notion.site/Bias-and-Variance-cbec5845b9ed4463831b0e842ed353ea\n",
    "\n",
    "Predictors = Tipos de inputs\n",
    "\n",
    "Exemplo de inflexible = Regressão linear, já que ela sempre vai criar sempre uma linha"
   ]
  },
  {
   "attachments": {},
   "cell_type": "markdown",
   "metadata": {},
   "source": [
    "A) Flexible. É esperado que um modelo flexible consiga obter uma menor variance, caso ele tenha LARGE AMOUNT OF DATA.\n",
    "\n",
    "B) Unflexible. Modelos flexible tendem a precisar de mais amostras(dados de observação) para o criador do modelo saber se é efetivo ou não usar aquilo\n",
    "\n",
    "C) Flexible. Os unflexible tendem a ser mais próximos de retas, ou de resposta constantes\n",
    "\n",
    "D) Flexible. Um modelo unflexible tem uma chance bem menor de estar em Extremely High e Extremely Low, ele sempre está no meio a meio"
   ]
  },
  {
   "cell_type": "markdown",
   "metadata": {},
   "source": []
  }
 ],
 "metadata": {
  "kernelspec": {
   "display_name": "base",
   "language": "python",
   "name": "python3"
  },
  "language_info": {
   "codemirror_mode": {
    "name": "ipython",
    "version": 3
   },
   "file_extension": ".py",
   "mimetype": "text/x-python",
   "name": "python",
   "nbconvert_exporter": "python",
   "pygments_lexer": "ipython3",
   "version": "3.9.12"
  },
  "orig_nbformat": 4
 },
 "nbformat": 4,
 "nbformat_minor": 2
}
