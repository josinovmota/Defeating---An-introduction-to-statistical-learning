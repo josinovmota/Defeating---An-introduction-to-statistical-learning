{
 "cells": [
  {
   "cell_type": "markdown",
   "metadata": {},
   "source": [
    "# Questão 1"
   ]
  },
  {
   "cell_type": "code",
   "execution_count": null,
   "metadata": {},
   "outputs": [],
   "source": [
    "\"\"\"\n",
    "Não pretendo fazer essas questões que envolvem matemática em si"
   ]
  },
  {
   "cell_type": "markdown",
   "metadata": {},
   "source": [
    "# Questão 2"
   ]
  },
  {
   "cell_type": "code",
   "execution_count": null,
   "metadata": {},
   "outputs": [],
   "source": [
    "\"\"\"\n",
    "Não pretendo fazer essas questões que envolvem matemática em si"
   ]
  },
  {
   "cell_type": "markdown",
   "metadata": {},
   "source": [
    "# Questão 3"
   ]
  },
  {
   "cell_type": "code",
   "execution_count": null,
   "metadata": {},
   "outputs": [],
   "source": [
    "\"\"\"\n",
    "Não pretendo fazer essas questões que envolvem matemática em si"
   ]
  },
  {
   "cell_type": "markdown",
   "metadata": {},
   "source": [
    "# Questão 4"
   ]
  },
  {
   "cell_type": "markdown",
   "metadata": {},
   "source": [
    "# a)"
   ]
  },
  {
   "cell_type": "code",
   "execution_count": null,
   "metadata": {},
   "outputs": [],
   "source": [
    "\"\"\"\n",
    "Como a questão fala que vamos usar observações que estão em um range de 10% do X\n",
    "escolhido e usa como exemplo 0.6 [0.55, 0.65], usaremos apenas uma fração de 10%  "
   ]
  },
  {
   "cell_type": "markdown",
   "metadata": {},
   "source": [
    "# b)"
   ]
  },
  {
   "cell_type": "code",
   "execution_count": null,
   "metadata": {},
   "outputs": [],
   "source": [
    "\"\"\"\n",
    "Essa questão me fez quebrar bastante cabeça. Nesse caso buscamos as observações\n",
    "que estão em um range de 10% da test observation encontrada tanto para X_1 como\n",
    "para X_2, ou seja, usaremos 10% que tem P_1 e 10% que também tem P_2. Usando a\n",
    "multiplicação, chegamos em 10% x 10% que é equivalente a 0.01 ou 1%"
   ]
  },
  {
   "cell_type": "markdown",
   "metadata": {},
   "source": [
    "# c)"
   ]
  },
  {
   "cell_type": "code",
   "execution_count": null,
   "metadata": {},
   "outputs": [],
   "source": [
    "\"\"\"\n",
    "Seguindo a mesma ideia da questão B, nesse caso, com p = 100, devemos multiplicar\n",
    "os 10% por 100, que daria 0.1^99"
   ]
  },
  {
   "cell_type": "markdown",
   "metadata": {},
   "source": [
    "# d)"
   ]
  },
  {
   "cell_type": "code",
   "execution_count": null,
   "metadata": {},
   "outputs": [],
   "source": [
    "\"\"\"\n",
    "Não, no caso da A-C usamos porcentagem da quantidade de dados, então não consideramos\n",
    "a quantidade de dados"
   ]
  },
  {
   "cell_type": "markdown",
   "metadata": {},
   "source": [
    "# e)"
   ]
  },
  {
   "cell_type": "code",
   "execution_count": null,
   "metadata": {},
   "outputs": [],
   "source": [
    "\"\"\"\n",
    "p = 1 . O \"cubo\" representará apenas uma linha, como dito na questão e se é usado o valor\n",
    "de 10% das training observations, terá um tamanho de 0.1.\n",
    "p = 2. O \"cubo\" representará um quadrado e o cálculo dos lados de um quadrado é feito por\n",
    "l*2, então será a raíz quadrada de 0.1 que é ~ 0.316\n",
    "p = 100. O \"cubo\" terá 100 dimensões de um quadrado, então o tamanho do lado será feito pela\n",
    "raiz de ordem 100 de 0.1(10%) "
   ]
  },
  {
   "cell_type": "markdown",
   "metadata": {},
   "source": [
    "# Questão 5"
   ]
  },
  {
   "cell_type": "markdown",
   "metadata": {},
   "source": [
    "# a)"
   ]
  },
  {
   "cell_type": "code",
   "execution_count": null,
   "metadata": {},
   "outputs": [],
   "source": [
    "\"\"\"\n",
    "Se a decision boundary é linear, é mais adequado usar LDA"
   ]
  },
  {
   "cell_type": "markdown",
   "metadata": {},
   "source": [
    "# b)"
   ]
  },
  {
   "cell_type": "code",
   "execution_count": null,
   "metadata": {},
   "outputs": [],
   "source": [
    "\"\"\"\n",
    "Se a decision boundary for não-linear, é mais adequado usar o QDA"
   ]
  },
  {
   "cell_type": "markdown",
   "metadata": {},
   "source": [
    "# c)"
   ]
  },
  {
   "cell_type": "code",
   "execution_count": null,
   "metadata": {},
   "outputs": [],
   "source": [
    "\"\"\"\n",
    "Quanto mais o N aumenta, melhor será o QDA em relação ao LDA, pois ele assume que não existe\n",
    "correlação entre os predictors\n",
    "\n",
    "Fala do livro: Roughly speaking, LDA tends to be a better bet\n",
    "than QDA if there are relatively few training observations and so reducing\n",
    "variance is crucial. In contrast, QDA is recommended if the training set is\n",
    "very large, so that the variance of the classifier is not a major concern, or if\n",
    "the assumption of a common covariance matrix for the K classes is clearly\n",
    "untenable\n"
   ]
  },
  {
   "cell_type": "markdown",
   "metadata": {},
   "source": [
    "# d)"
   ]
  },
  {
   "cell_type": "code",
   "execution_count": null,
   "metadata": {},
   "outputs": [],
   "source": [
    "\"\"\"\n",
    "Caso a decision boundary seja linear vamos ter um melhor desempenho usando o LDA, já que por\n",
    "ele ser linear, nesse cenário ele gerará menos Bias e menos Variance"
   ]
  },
  {
   "cell_type": "markdown",
   "metadata": {},
   "source": []
  }
 ],
 "metadata": {
  "kernelspec": {
   "display_name": "base",
   "language": "python",
   "name": "python3"
  },
  "language_info": {
   "codemirror_mode": {
    "name": "ipython",
    "version": 3
   },
   "file_extension": ".py",
   "mimetype": "text/x-python",
   "name": "python",
   "nbconvert_exporter": "python",
   "pygments_lexer": "ipython3",
   "version": "3.10.9"
  },
  "orig_nbformat": 4
 },
 "nbformat": 4,
 "nbformat_minor": 2
}
