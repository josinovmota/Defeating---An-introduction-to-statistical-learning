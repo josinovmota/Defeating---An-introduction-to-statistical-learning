{
 "cells": [
  {
   "cell_type": "markdown",
   "metadata": {},
   "source": [
    "# Questão 1"
   ]
  },
  {
   "cell_type": "code",
   "execution_count": null,
   "metadata": {},
   "outputs": [],
   "source": [
    "\"\"\"\n",
    "Não pretendo fazer essas questões que envolvem matemática em si"
   ]
  },
  {
   "cell_type": "markdown",
   "metadata": {},
   "source": [
    "# Questão 2"
   ]
  },
  {
   "cell_type": "code",
   "execution_count": null,
   "metadata": {},
   "outputs": [],
   "source": [
    "\"\"\"\n",
    "Não pretendo fazer essas questões que envolvem matemática em si"
   ]
  },
  {
   "cell_type": "markdown",
   "metadata": {},
   "source": [
    "# Questão 3"
   ]
  },
  {
   "cell_type": "code",
   "execution_count": null,
   "metadata": {},
   "outputs": [],
   "source": [
    "\"\"\"\n",
    "Não pretendo fazer essas questões que envolvem matemática em si"
   ]
  },
  {
   "cell_type": "markdown",
   "metadata": {},
   "source": [
    "# Questão 4"
   ]
  },
  {
   "cell_type": "markdown",
   "metadata": {},
   "source": [
    "# a)"
   ]
  },
  {
   "cell_type": "code",
   "execution_count": null,
   "metadata": {},
   "outputs": [],
   "source": [
    "\"\"\"\n",
    "Como a questão fala que vamos usar observações que estão em um range de 10% do X\n",
    "escolhido e usa como exemplo 0.6 [0.55, 0.65], usaremos apenas uma fração de 10%  "
   ]
  },
  {
   "cell_type": "markdown",
   "metadata": {},
   "source": [
    "# b)"
   ]
  },
  {
   "cell_type": "code",
   "execution_count": null,
   "metadata": {},
   "outputs": [],
   "source": [
    "\"\"\"\n",
    "Essa questão me fez quebrar bastante cabeça. Nesse caso buscamos as observações\n",
    "que estão em um range de 10% da test observation encontrada tanto para X_1 como\n",
    "para X_2, ou seja, usaremos 10% que tem P_1 e 10% que também tem P_2. Usando a\n",
    "multiplicação, chegamos em 10% x 10% que é equivalente a 0.01 ou 1%"
   ]
  },
  {
   "cell_type": "markdown",
   "metadata": {},
   "source": [
    "# c)"
   ]
  },
  {
   "cell_type": "code",
   "execution_count": null,
   "metadata": {},
   "outputs": [],
   "source": [
    "\"\"\"\n",
    "Seguindo a mesma ideia da questão B, nesse caso, com p = 100, devemos multiplicar\n",
    "os 10% por 100, que daria 0.1^-99"
   ]
  },
  {
   "cell_type": "markdown",
   "metadata": {},
   "source": [
    "# d)"
   ]
  },
  {
   "cell_type": "code",
   "execution_count": null,
   "metadata": {},
   "outputs": [],
   "source": [
    "\"\"\"\n",
    "Quanto maior o valor de P, maior o espaço dimensional, fazendo assim, os dados de\n",
    "treino serem mais dispersos e longes um dos outros"
   ]
  },
  {
   "cell_type": "markdown",
   "metadata": {},
   "source": [
    "# e)"
   ]
  },
  {
   "cell_type": "code",
   "execution_count": null,
   "metadata": {},
   "outputs": [],
   "source": [
    "\"\"\"\n",
    "p = 1 . O \"cubo\" representará apenas uma linha, como dito na questão e se é usado o valor\n",
    "de 10% das training observations, terá um tamanho de 0.1.\n",
    "p = 2. O \"cubo\" representará um quadrado e o cálculo dos lados de um quadrado é feito por\n",
    "l*2, então será a raíz quadrada de 0.1 que é ~ 0.316\n",
    "p = 100. O \"cubo\" terá 100 dimensões de um quadrado, então o tamanho do lado será feito pela\n",
    "raiz de ordem 100 de 0.1(10%) "
   ]
  },
  {
   "cell_type": "markdown",
   "metadata": {},
   "source": [
    "# Questão 5"
   ]
  },
  {
   "cell_type": "markdown",
   "metadata": {},
   "source": [
    "# a)"
   ]
  },
  {
   "cell_type": "code",
   "execution_count": null,
   "metadata": {},
   "outputs": [],
   "source": [
    "\"\"\"\n",
    "Se a decision boundary é linear, é mais adequado usar LDA. Em ambos os casos vai depender se os predictors seguem um Bell-Shape/Gaussian Shape"
   ]
  },
  {
   "cell_type": "markdown",
   "metadata": {},
   "source": [
    "# b)"
   ]
  },
  {
   "cell_type": "code",
   "execution_count": null,
   "metadata": {},
   "outputs": [],
   "source": [
    "\"\"\"\n",
    "Se a decision boundary for não-linear, é mais adequado usar o QDA. Em ambos os casos vai depender se os predictors seguem um Bell-Shape/Gaussian Shape"
   ]
  },
  {
   "cell_type": "markdown",
   "metadata": {},
   "source": [
    "# c)"
   ]
  },
  {
   "cell_type": "code",
   "execution_count": null,
   "metadata": {},
   "outputs": [],
   "source": [
    "\"\"\"\n",
    "Quanto mais o N aumenta, melhor será o QDA em relação ao LDA, pois, pelo LDA\n",
    "ser linear, ele tende a gerar menos variance com poucos dados\n",
    "\n",
    "Fala do livro: Roughly speaking, LDA tends to be a better bet\n",
    "than QDA if there are relatively few training observations and so reducing\n",
    "variance is crucial. In contrast, QDA is recommended if the training set is\n",
    "very large, so that the variance of the classifier is not a major concern, or if\n",
    "the assumption of a common covariance matrix for the K classes is clearly\n",
    "untenable\n"
   ]
  },
  {
   "cell_type": "markdown",
   "metadata": {},
   "source": [
    "# d)"
   ]
  },
  {
   "cell_type": "code",
   "execution_count": null,
   "metadata": {},
   "outputs": [],
   "source": [
    "\"\"\"\n",
    "False. Caso a decision boundary seja linear vamos ter um melhor desempenho usando o LDA, já que por\n",
    "ele ser linear nesse cenário, vai gerar menos Bias e menos Variance"
   ]
  },
  {
   "cell_type": "markdown",
   "metadata": {},
   "source": [
    "# Questão 6"
   ]
  },
  {
   "cell_type": "markdown",
   "metadata": {},
   "source": [
    "# a)"
   ]
  },
  {
   "cell_type": "code",
   "execution_count": 8,
   "metadata": {},
   "outputs": [
    {
     "name": "stdout",
     "output_type": "stream",
     "text": [
      "0.37754066879814546\n"
     ]
    }
   ],
   "source": [
    "import math\n",
    "\n",
    "B_0_hat = -6\n",
    "B_1_hat = 0.05\n",
    "B_2_hat = 1\n",
    "X_1 = 40\n",
    "X_2 = 3.5\n",
    "\n",
    "exponent = B_0_hat + B_1_hat*X_1 + B_2_hat*X_2\n",
    "\n",
    "probability = math.exp(exponent) / (1 + math.exp(exponent))\n",
    "\n",
    "print(probability)\n",
    "\n",
    "\"\"\"\n",
    "Probabilidade de aproxidamente 37%"
   ]
  },
  {
   "cell_type": "markdown",
   "metadata": {},
   "source": [
    "# b)"
   ]
  },
  {
   "cell_type": "code",
   "execution_count": 7,
   "metadata": {},
   "outputs": [
    {
     "name": "stdout",
     "output_type": "stream",
     "text": [
      "0.5\n"
     ]
    }
   ],
   "source": [
    "X_1 = 50\n",
    "\n",
    "exponent = B_0_hat + B_1_hat*X_1 + B_2_hat*X_2\n",
    "\n",
    "probability = math.exp(exponent) / (1 + math.exp(exponent))\n",
    "\n",
    "print(probability)\n",
    "\n",
    "\"\"\"\n",
    "O estudante precisará estudar por 50 horas"
   ]
  },
  {
   "cell_type": "markdown",
   "metadata": {},
   "source": [
    "# Questão 7"
   ]
  },
  {
   "cell_type": "code",
   "execution_count": null,
   "metadata": {},
   "outputs": [],
   "source": [
    "\"\"\"\n",
    "Não pretendo fazer essas questões que envolvem matemática em si"
   ]
  },
  {
   "cell_type": "markdown",
   "metadata": {},
   "source": [
    "# Questão 8"
   ]
  },
  {
   "cell_type": "code",
   "execution_count": null,
   "metadata": {},
   "outputs": [],
   "source": [
    "\"\"\"\n",
    "Bom, analisando o enunciado da questão, podemos ver que o erro do KNN é menor.\n",
    "Porém, antes de fazermos presunções, devemos entender que a logistic regression\n",
    "encaixa melhor quando temos classes Binárias, que é o caso dessa questão. \n",
    "\n",
    "Portanto, um KNN com um K = 1 tende a ser bem preciso normalmente e nesse exemplo\n",
    "foi mais preciso que a logistic regression, então é preferível usar, nesse caso,\n",
    "o KNN com K = 1 no lugar da logistic regression"
   ]
  },
  {
   "cell_type": "markdown",
   "metadata": {},
   "source": [
    "# Questão 9"
   ]
  },
  {
   "cell_type": "markdown",
   "metadata": {},
   "source": [
    "# a)"
   ]
  },
  {
   "cell_type": "code",
   "execution_count": 15,
   "metadata": {},
   "outputs": [
    {
     "name": "stdout",
     "output_type": "stream",
     "text": [
      "37/63\n"
     ]
    }
   ],
   "source": [
    "frac = 0.37\n",
    "\n",
    "from fractions import Fraction\n",
    "\n",
    "def odds(frac):\n",
    "    down_part = 1 - frac\n",
    "\n",
    "    return print(Fraction(frac / down_part).limit_denominator())\n",
    "\n",
    "odds(frac)"
   ]
  },
  {
   "cell_type": "markdown",
   "metadata": {},
   "source": [
    "# b)"
   ]
  },
  {
   "cell_type": "code",
   "execution_count": 16,
   "metadata": {},
   "outputs": [
    {
     "name": "stdout",
     "output_type": "stream",
     "text": [
      "4/21\n"
     ]
    }
   ],
   "source": [
    "frac =  0.16\n",
    "\n",
    "odds(frac)"
   ]
  },
  {
   "cell_type": "markdown",
   "metadata": {},
   "source": [
    "# Questão 10"
   ]
  },
  {
   "cell_type": "code",
   "execution_count": null,
   "metadata": {},
   "outputs": [],
   "source": [
    "\"\"\"\n",
    "Não pretendo fazer essas questões que envolvem matemática em si"
   ]
  },
  {
   "cell_type": "markdown",
   "metadata": {},
   "source": [
    "# Questão 11"
   ]
  },
  {
   "cell_type": "code",
   "execution_count": null,
   "metadata": {},
   "outputs": [],
   "source": [
    "\"\"\"\n",
    "Não pretendo fazer essas questões que envolvem matemática em si"
   ]
  },
  {
   "cell_type": "markdown",
   "metadata": {},
   "source": [
    "# Questão 12"
   ]
  },
  {
   "cell_type": "code",
   "execution_count": null,
   "metadata": {},
   "outputs": [],
   "source": [
    "\"\"\"\n",
    "Não pretendo fazer essas questões que envolvem matemática em si"
   ]
  },
  {
   "cell_type": "markdown",
   "metadata": {},
   "source": [
    "# Questão 13"
   ]
  },
  {
   "cell_type": "code",
   "execution_count": 126,
   "metadata": {},
   "outputs": [],
   "source": [
    "from ISLP import load_data\n",
    "import seaborn as sns\n",
    "import matplotlib.pyplot as plt\n",
    "import pandas as pd\n",
    "import statsmodels.api as sm\n",
    "from sklearn.metrics import confusion_matrix, accuracy_score\n",
    "\n",
    "df = load_data('Weekly')"
   ]
  },
  {
   "cell_type": "code",
   "execution_count": 63,
   "metadata": {},
   "outputs": [
    {
     "name": "stderr",
     "output_type": "stream",
     "text": [
      "C:\\Users\\Pudge\\AppData\\Local\\Temp\\ipykernel_15860\\253594992.py:1: FutureWarning: The default value of numeric_only in DataFrame.corr is deprecated. In a future version, it will default to False. Select only valid columns or specify the value of numeric_only to silence this warning.\n",
      "  correlation_matrix = df.corr()\n"
     ]
    },
    {
     "data": {
      "image/png": "[encoded data removed]",
      "text/plain": [
       "<Figure size 640x480 with 2 Axes>"
      ]
     },
     "metadata": {},
     "output_type": "display_data"
    }
   ],
   "source": [
    "correlation_matrix = df.corr()\n",
    "\n",
    "sns.heatmap(correlation_matrix, annot=True, cmap='coolwarm')\n",
    "plt.title('Correlation Matrix')\n",
    "plt.show()"
   ]
  },
  {
   "cell_type": "markdown",
   "metadata": {},
   "source": [
    "# b)"
   ]
  },
  {
   "cell_type": "code",
   "execution_count": 87,
   "metadata": {},
   "outputs": [
    {
     "name": "stdout",
     "output_type": "stream",
     "text": [
      "Optimization terminated successfully.\n",
      "         Current function value: 1.925080\n",
      "         Iterations 4\n",
      "                           Logit Regression Results                           \n",
      "==============================================================================\n",
      "Dep. Variable:              Direction   No. Observations:                 1089\n",
      "Model:                          Logit   Df Residuals:                     1082\n",
      "Method:                           MLE   Df Model:                            6\n",
      "Date:                Thu, 10 Aug 2023   Pseudo R-squ.:                     inf\n",
      "Time:                        10:05:12   Log-Likelihood:                -2096.4\n",
      "converged:                       True   LL-Null:                        0.0000\n",
      "Covariance Type:            nonrobust   LLR p-value:                     1.000\n",
      "==============================================================================\n",
      "                 coef    std err          z      P>|z|      [0.025      0.975]\n",
      "------------------------------------------------------------------------------\n",
      "const          0.2669      0.086      3.106      0.002       0.098       0.435\n",
      "Lag1          -0.0413      0.026     -1.563      0.118      -0.093       0.010\n",
      "Lag2           0.0584      0.027      2.175      0.030       0.006       0.111\n",
      "Lag3          -0.0161      0.027     -0.602      0.547      -0.068       0.036\n",
      "Lag4          -0.0278      0.026     -1.050      0.294      -0.080       0.024\n",
      "Lag5          -0.0145      0.026     -0.549      0.583      -0.066       0.037\n",
      "Volume        -0.0227      0.037     -0.616      0.538      -0.095       0.050\n",
      "==============================================================================\n"
     ]
    },
    {
     "name": "stderr",
     "output_type": "stream",
     "text": [
      "c:\\Users\\Pudge\\anaconda3\\lib\\site-packages\\statsmodels\\base\\model.py:592: HessianInversionWarning: Inverting hessian failed, no bse or cov_params available\n",
      "  warnings.warn('Inverting hessian failed, no bse or cov_params '\n",
      "c:\\Users\\Pudge\\anaconda3\\lib\\site-packages\\statsmodels\\base\\model.py:592: HessianInversionWarning: Inverting hessian failed, no bse or cov_params available\n",
      "  warnings.warn('Inverting hessian failed, no bse or cov_params '\n",
      "c:\\Users\\Pudge\\anaconda3\\lib\\site-packages\\statsmodels\\discrete\\discrete_model.py:3511: RuntimeWarning: divide by zero encountered in scalar divide\n",
      "  return 1 - self.llf/self.llnull\n"
     ]
    }
   ],
   "source": [
    "df_logistic_regression = df.drop(['Year', 'Today'], axis=1)\n",
    "\n",
    "x_train = df_logistic_regression.drop(['Direction'], axis=1)\n",
    "\n",
    "df_logistic_regression['Direction'] = pd.get_dummies(df_logistic_regression['Direction'], drop_first=True)\n",
    "\n",
    "x_train = sm.add_constant(x_train)\n",
    "y_train = df_logistic_regression['Direction']\n",
    "\n",
    "model = sm.Logit(y_train, x_train).fit()\n",
    "\n",
    "print(model.summary())\n",
    "\n",
    "\"\"\"\n",
    "Os predictors que parecem não ser estatísticamente significantes são:\n",
    "Lag3, Lag5 e Volume pois eles tem um Z-Value muito próximo de 0 e um\n",
    "p-value relativamente alto em relação aos outros."
   ]
  },
  {
   "cell_type": "markdown",
   "metadata": {},
   "source": [
    "# c)"
   ]
  },
  {
   "cell_type": "code",
   "execution_count": 102,
   "metadata": {},
   "outputs": [
    {
     "data": {
      "text/html": [
       "<div>\n",
       "<style scoped>\n",
       "    .dataframe tbody tr th:only-of-type {\n",
       "        vertical-align: middle;\n",
       "    }\n",
       "\n",
       "    .dataframe tbody tr th {\n",
       "        vertical-align: top;\n",
       "    }\n",
       "\n",
       "    .dataframe thead th {\n",
       "        text-align: right;\n",
       "    }\n",
       "</style>\n",
       "<table border=\"1\" class=\"dataframe\">\n",
       "  <thead>\n",
       "    <tr style=\"text-align: right;\">\n",
       "      <th></th>\n",
       "      <th>Down</th>\n",
       "      <th>Up</th>\n",
       "    </tr>\n",
       "  </thead>\n",
       "  <tbody>\n",
       "    <tr>\n",
       "      <th>Down</th>\n",
       "      <td>54.0</td>\n",
       "      <td>430.0</td>\n",
       "    </tr>\n",
       "    <tr>\n",
       "      <th>Up</th>\n",
       "      <td>48.0</td>\n",
       "      <td>557.0</td>\n",
       "    </tr>\n",
       "  </tbody>\n",
       "</table>\n",
       "</div>"
      ],
      "text/plain": [
       "      Down     Up\n",
       "Down  54.0  430.0\n",
       "Up    48.0  557.0"
      ]
     },
     "execution_count": 102,
     "metadata": {},
     "output_type": "execute_result"
    }
   ],
   "source": [
    "matrix = model.pred_table()\n",
    "\n",
    "labels = ['Down', 'Up']\n",
    "df_matrix = pd.DataFrame(matrix, index=labels, columns=labels)\n",
    "df_matrix"
   ]
  },
  {
   "cell_type": "markdown",
   "metadata": {},
   "source": [
    "# d)"
   ]
  },
  {
   "cell_type": "code",
   "execution_count": 140,
   "metadata": {},
   "outputs": [
    {
     "name": "stdout",
     "output_type": "stream",
     "text": [
      "Optimization terminated successfully.\n",
      "         Current function value: 0.888927\n",
      "         Iterations 4\n",
      "      Down  Up\n",
      "Down     9  34\n",
      "Up       5  56\n",
      "\n",
      "O teste teve uma accuracy de:\n",
      "\n",
      "0.625\n",
      "\n",
      "\n",
      "\n",
      "\n"
     ]
    },
    {
     "name": "stderr",
     "output_type": "stream",
     "text": [
      "C:\\Users\\Pudge\\AppData\\Local\\Temp\\ipykernel_15860\\2010638915.py:4: SettingWithCopyWarning: \n",
      "A value is trying to be set on a copy of a slice from a DataFrame.\n",
      "Try using .loc[row_indexer,col_indexer] = value instead\n",
      "\n",
      "See the caveats in the documentation: https://pandas.pydata.org/pandas-docs/stable/user_guide/indexing.html#returning-a-view-versus-a-copy\n",
      "  df_d.Direction = pd.get_dummies(df_d.Direction, drop_first=True)\n",
      "C:\\Users\\Pudge\\AppData\\Local\\Temp\\ipykernel_15860\\2010638915.py:15: SettingWithCopyWarning: \n",
      "A value is trying to be set on a copy of a slice from a DataFrame.\n",
      "Try using .loc[row_indexer,col_indexer] = value instead\n",
      "\n",
      "See the caveats in the documentation: https://pandas.pydata.org/pandas-docs/stable/user_guide/indexing.html#returning-a-view-versus-a-copy\n",
      "  df_test['predictions'] = (model.predict(x_test) > 0.5).astype(int)\n"
     ]
    }
   ],
   "source": [
    "# Divisão dos dados e criação da dummy variable\n",
    "df_d = df.loc[df['Year'] < 2009]\n",
    "df_test = df.loc[df['Year'] > 2008]\n",
    "df_d.Direction = pd.get_dummies(df_d.Direction, drop_first=True)\n",
    "\n",
    "# Criação do x_train e y_train para a Logit\n",
    "x_train = sm.add_constant(df_d['Lag2'])\n",
    "y_train = df_d.Direction\n",
    "\n",
    "# Modelo sendo aplicado\n",
    "model = sm.Logit(y_train, x_train).fit()\n",
    "\n",
    "# Testar com os dados de teste\n",
    "x_test = sm.add_constant(df_teste['Lag2'])\n",
    "df_test['predictions'] = (model.predict(x_test) > 0.5).astype(int)\n",
    "y_test = pd.get_dummies(df_test.Direction, drop_first=True)\n",
    "\n",
    "matrix = confusion_matrix(y_test, df_test.predictions)\n",
    "\n",
    "df_matrix = pd.DataFrame(matrix, index=labels, columns=labels)\n",
    "print(df_matrix)\n",
    "\n",
    "accuracy = accuracy_score(y_test, df_test.predictions)\n",
    "\n",
    "print('\\nO teste teve uma accuracy de:\\n')\n",
    "print(f'{accuracy}\\n\\n\\n\\n')\n"
   ]
  },
  {
   "cell_type": "code",
   "execution_count": null,
   "metadata": {},
   "outputs": [],
   "source": []
  }
 ],
 "metadata": {
  "kernelspec": {
   "display_name": "base",
   "language": "python",
   "name": "python3"
  },
  "language_info": {
   "codemirror_mode": {
    "name": "ipython",
    "version": 3
   },
   "file_extension": ".py",
   "mimetype": "text/x-python",
   "name": "python",
   "nbconvert_exporter": "python",
   "pygments_lexer": "ipython3",
   "version": "3.10.9"
  },
  "orig_nbformat": 4
 },
 "nbformat": 4,
 "nbformat_minor": 2
}
