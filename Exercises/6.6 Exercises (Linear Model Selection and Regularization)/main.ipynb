{
 "cells": [
  {
   "cell_type": "code",
   "execution_count": 1,
   "metadata": {},
   "outputs": [],
   "source": [
    "import numpy as np\n",
    "import pandas as pd\n",
    "import matplotlib.pyplot as plt\n",
    "import seaborn as sns\n",
    "from sklearn.linear_model import LinearRegression\n",
    "from sklearn.metrics import mean_squared_error\n",
    "from sklearn.linear_model import LassoCV"
   ]
  },
  {
   "cell_type": "markdown",
   "metadata": {},
   "source": [
    "# Questão 8"
   ]
  },
  {
   "cell_type": "markdown",
   "metadata": {},
   "source": [
    "# a)"
   ]
  },
  {
   "cell_type": "code",
   "execution_count": 10,
   "metadata": {},
   "outputs": [],
   "source": [
    "# Create a predictor X\n",
    "X = np.random.default_rng().normal(size=100)\n",
    "# Create a Noise Vector e\n",
    "e = np.random.default_rng().normal(size=100)"
   ]
  },
  {
   "cell_type": "markdown",
   "metadata": {},
   "source": [
    "# b)"
   ]
  },
  {
   "cell_type": "code",
   "execution_count": 11,
   "metadata": {},
   "outputs": [],
   "source": [
    "B_0 = 0.5\n",
    "B_1 = -0.3\n",
    "B_2 = 3\n",
    "B_3 = 0.7\n",
    "\n",
    "Y = B_0 + B_1 * X + B_2 * (X ** 2) + B_3 * (X ** 3) + e"
   ]
  },
  {
   "cell_type": "markdown",
   "metadata": {},
   "source": [
    "# c)"
   ]
  },
  {
   "attachments": {
    "image.png": {
     "image/png": "[encoded data removed]"
    }
   },
   "cell_type": "markdown",
   "metadata": {},
   "source": [
    "![image.png](attachment:image.png)"
   ]
  },
  {
   "cell_type": "code",
   "execution_count": 4,
   "metadata": {},
   "outputs": [
    {
     "name": "stdout",
     "output_type": "stream",
     "text": [
      "O c_p statistics de [1] é 3.0493241855124675\n",
      "O c_p statistics de [1, 2] é 0.9662430635314441\n",
      "O c_p statistics de [1, 2, 0] é 0.9517398613734414\n",
      "O c_p statistics de [1, 2, 0, 8] é 0.9452678086671286\n",
      "O c_p statistics de [1, 2, 0, 8, 3] é 0.9540425815567989\n",
      "O c_p statistics de [1, 2, 0, 8, 3, 5] é 0.9561710939132503\n",
      "O c_p statistics de [1, 2, 0, 8, 3, 5, 9] é 0.9693568109884707\n",
      "O c_p statistics de [1, 2, 0, 8, 3, 5, 9, 4] é 0.9836923890167291\n",
      "O c_p statistics de [1, 2, 0, 8, 3, 5, 9, 4, 6] é 0.990027626538114\n",
      "O c_p statistics de [1, 2, 0, 8, 3, 5, 9, 4, 6, 7] é 1.0041789258149487\n",
      "\n",
      "O modelo selecionado de acordo com o c_p statistics é:[1, 2, 0, 8], e os coeficientes são: [ 3.02357520e+00  8.39674217e-01 -5.37545970e-01 -8.25521463e-04]\n"
     ]
    }
   ],
   "source": [
    "def forward_stepwise(X, Y):\n",
    "    features = np.array([X**i for i in range(1, 11)]).T\n",
    "\n",
    "    best_rss_set = []\n",
    "    best_features_idx = []\n",
    "    best_cp = np.inf\n",
    "    best_model_features = []\n",
    "    # rever\n",
    "    full_model = LinearRegression().fit(features, Y)\n",
    "    sigma_hat_squared = mean_squared_error(Y, full_model.predict(features))\n",
    "\n",
    "    features_idx = [i for i in range(features.shape[1])]\n",
    "\n",
    "    while features_idx:\n",
    "        best_rss = None\n",
    "        best_idx = None\n",
    "        for feature_idx in features_idx:\n",
    "            features_set = features[:, best_features_idx + [feature_idx]]\n",
    "            model = LinearRegression().fit(features_set,Y)\n",
    "            y_pred = model.predict(features_set)\n",
    "            Rss = np.sum((Y - y_pred)**2)\n",
    "\n",
    "            if best_rss is None or Rss < best_rss:\n",
    "                best_rss = Rss\n",
    "                best_idx = feature_idx\n",
    "\n",
    "        best_rss_set.append(best_rss)\n",
    "        best_features_idx.append(best_idx)\n",
    "        features_idx.remove(best_idx)\n",
    "\n",
    "        p = len(best_features_idx) + 1\n",
    "\n",
    "        n = 100\n",
    "\n",
    "        # rever como é o cálculo do c_p statistics que o livro pede\n",
    "        c_p = (best_rss + 2 * p * sigma_hat_squared) / n\n",
    "\n",
    "        if c_p < best_cp:\n",
    "            best_cp = c_p\n",
    "            best_model_features = list(best_features_idx)\n",
    "            final_model = LinearRegression().fit(features[:, best_features_idx], Y)\n",
    "            coefficients = final_model.coef_\n",
    "\n",
    "        print(f'O c_p statistics de {best_features_idx} é {c_p}')\n",
    "\n",
    "    print(f'\\nO modelo selecionado de acordo com o c_p statistics é:{best_model_features}, e os coeficientes são: {coefficients}')\n",
    "\n",
    "forward_stepwise(X, Y)"
   ]
  },
  {
   "cell_type": "markdown",
   "metadata": {},
   "source": [
    "# d)"
   ]
  },
  {
   "cell_type": "code",
   "execution_count": 6,
   "metadata": {},
   "outputs": [
    {
     "name": "stdout",
     "output_type": "stream",
     "text": [
      "O c_p statistics de [0, 1, 2, 4, 5, 6, 7, 8, 9] é 0.9715629683429952\n",
      "O c_p statistics de [1, 2, 4, 5, 6, 7, 8, 9] é 0.9554900220754975\n",
      "O c_p statistics de [1, 2, 4, 5, 6, 7, 8] é 0.9513374121533709\n",
      "O c_p statistics de [1, 2, 4, 5, 6, 7] é 0.9444847824671899\n",
      "O c_p statistics de [1, 4, 5, 6, 7] é 0.9291708322968462\n",
      "O c_p statistics de [1, 4, 5, 6] é 0.9240320446350035\n",
      "O c_p statistics de [1, 4, 6] é 0.9165553192844409\n",
      "O c_p statistics de [1, 4] é 1.159652350712543\n",
      "O c_p statistics de [1] é 3.032862235908944\n",
      "\n",
      "O modelo selecionado de acordo com o c_p statistics é:[1, 4, 6], e os coeficientes são: [ 3.06697234  0.33486569 -0.04002484]\n"
     ]
    }
   ],
   "source": [
    "def backward_stepwise(X, Y):\n",
    "    features = np.array([X**i for i in range(1, 11)]).T\n",
    "\n",
    "    full_features_idx = [i for i in range(features.shape[1])]\n",
    "\n",
    "    full_model = LinearRegression().fit(features, Y)\n",
    "    sigma_hat_squared = mean_squared_error(Y, full_model.predict(features))\n",
    "\n",
    "    best_features_idx = []\n",
    "    best_rss_set = []\n",
    "    best_cp = np.inf\n",
    "\n",
    "    while len(full_features_idx) > 1:\n",
    "        best_rss = None\n",
    "        best_idx = None\n",
    "        for feature_idx in full_features_idx:\n",
    "            x = full_features_idx.copy()\n",
    "            x.remove(feature_idx)\n",
    "            features_set = features[:, x]\n",
    "            model = LinearRegression().fit(features_set, Y)\n",
    "            y_pred = model.predict(features_set)\n",
    "            Rss = np.sum((Y - y_pred)**2)\n",
    "\n",
    "            if best_rss is None or Rss < best_rss:\n",
    "                best_rss = Rss\n",
    "                best_idx = feature_idx \n",
    "        \n",
    "        full_features_idx.remove(best_idx)\n",
    "        best_rss_set.append(best_rss)\n",
    "        best_features_idx.append(best_idx)\n",
    "\n",
    "        p = len(full_features_idx)\n",
    "\n",
    "        n = 100\n",
    "\n",
    "        # rever como é o cálculo do c_p statistics que o livro pede\n",
    "        c_p = (best_rss + 2 * p * sigma_hat_squared) / n\n",
    "\n",
    "        if c_p < best_cp:\n",
    "            # melhor c_p\n",
    "            best_cp = c_p\n",
    "            # lista de features com menor RSS\n",
    "            best_model_features = list(full_features_idx)\n",
    "            # Modelo final feito com a lista de features com menor RSS\n",
    "            final_model = LinearRegression().fit(features[:, best_model_features], Y)\n",
    "            # Coeficientes desse modelo\n",
    "            coefficients = final_model.coef_\n",
    "\n",
    "        print(f'O c_p statistics de {full_features_idx} é {c_p}')\n",
    "\n",
    "    print(f'\\nO modelo selecionado de acordo com o c_p statistics é:{best_model_features}, e os coeficientes são: {coefficients}')\n",
    "\n",
    "backward_stepwise(X, Y)\n",
    "\n",
    "\"\"\"\n",
    "As resposta são iguais :O"
   ]
  }
 ],
 "metadata": {
  "kernelspec": {
   "display_name": "base",
   "language": "python",
   "name": "python3"
  },
  "language_info": {
   "codemirror_mode": {
    "name": "ipython",
    "version": 3
   },
   "file_extension": ".py",
   "mimetype": "text/x-python",
   "name": "python",
   "nbconvert_exporter": "python",
   "pygments_lexer": "ipython3",
   "version": "3.11.7"
  }
 },
 "nbformat": 4,
 "nbformat_minor": 2
}
